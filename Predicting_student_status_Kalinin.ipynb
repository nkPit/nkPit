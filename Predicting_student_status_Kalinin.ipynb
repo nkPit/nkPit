{
  "nbformat": 4,
  "nbformat_minor": 0,
  "metadata": {
    "colab": {
      "provenance": [],
      "collapsed_sections": []
    },
    "kernelspec": {
      "name": "python3",
      "display_name": "Python 3"
    },
    "language_info": {
      "name": "python"
    }
  },
  "cells": [
    {
      "cell_type": "markdown",
      "source": [
        "## Загрузим нужные библиотеки"
      ],
      "metadata": {
        "id": "qb_ajqWXuguV"
      }
    },
    {
      "cell_type": "code",
      "execution_count": 100,
      "metadata": {
        "id": "MTgpe_1quUDs"
      },
      "outputs": [],
      "source": [
        "import pandas as pd\n",
        "import seaborn as sns\n",
        "import matplotlib.pyplot as plt\n",
        "from sklearn.model_selection import train_test_split\n",
        "from sklearn.ensemble import RandomForestClassifier\n",
        "from sklearn import tree\n",
        "import numpy as np\n",
        "from sklearn.metrics import f1_score\n",
        "\n",
        "%matplotlib inline"
      ]
    },
    {
      "cell_type": "code",
      "source": [
        "df = pd.read_csv(\"/content/train_dataset_train.csv\")"
      ],
      "metadata": {
        "id": "o9N4JbcWudk2"
      },
      "execution_count": 101,
      "outputs": []
    },
    {
      "cell_type": "markdown",
      "source": [
        "## Рассмотрим датасет"
      ],
      "metadata": {
        "id": "GgCS5B_PutbW"
      }
    },
    {
      "cell_type": "code",
      "source": [
        "df.head()"
      ],
      "metadata": {
        "colab": {
          "base_uri": "https://localhost:8080/",
          "height": 473
        },
        "id": "qEvfySMMutBR",
        "outputId": "72d227aa-bfa0-4f9e-c334-aed7a73360ff"
      },
      "execution_count": 102,
      "outputs": [
        {
          "output_type": "execute_result",
          "data": {
            "text/plain": [
              "      ID  Код_группы  Год_Поступления  Пол Основания   Изучаемый_Язык  \\\n",
              "0  72716       16019             2015  Жен        ОО  Английский язык   \n",
              "1  63306       14895             2010  Муж        ЦН              NaN   \n",
              "2  82469       20103             2017  Жен        ДН  Английский язык   \n",
              "3  81661       19838             2017  Жен        БН  Английский язык   \n",
              "4  81509       19803             2017  Жен        БН  Английский язык   \n",
              "\n",
              "             Дата_Рождения                                    Уч_Заведение  \\\n",
              "0  1998-02-08 00:00:00.000                                  МБОУ \"СОШ №59\"   \n",
              "1  1992-04-18 00:00:00.000                                             NaN   \n",
              "2  1999-03-21 00:00:00.000                           МБОУ Алтайская СОШ №5   \n",
              "3  1994-12-08 00:00:00.000  ФГБОУ ВО Алтайский государственный университет   \n",
              "4  1995-06-28 00:00:00.000  ФГБОУ ВО Алтайский государственный университет   \n",
              "\n",
              "                             Где_Находится_УЗ  Год_Окончания_УЗ  ...  \\\n",
              "0                   Алтайский край, Барнаул г            2014.0  ...   \n",
              "1                                         NaN               NaN  ...   \n",
              "2  Алтайский край, Алтайский р-н, Алтайское с            2017.0  ...   \n",
              "3                  Алтайский край, г. Барнаул            2017.0  ...   \n",
              "4                  Алтайский край, г. Барнаул            2017.0  ...   \n",
              "\n",
              "   Общежитие Наличие_Матери Наличие_Отца Страна_Родители  Опекунство  Село  \\\n",
              "0        0.0              0          0.0          Россия         0.0   0.0   \n",
              "1        0.0              1          1.0          Россия         0.0   0.0   \n",
              "2        0.0              1          1.0          Россия         0.0   0.0   \n",
              "3        0.0              1          1.0          Россия         0.0   0.0   \n",
              "4        0.0              1          1.0          Россия         0.0   0.0   \n",
              "\n",
              "   Иностранец КодФакультета  СрБаллАттестата  Статус  \n",
              "0         0.0          41.0            4.294       3  \n",
              "1         0.0          28.0           67.000       4  \n",
              "2         0.0          41.0            4.133       4  \n",
              "3         0.0          35.0           74.000       4  \n",
              "4         0.0          28.0           53.000       4  \n",
              "\n",
              "[5 rows x 24 columns]"
            ],
            "text/html": [
              "\n",
              "  <div id=\"df-62a83dc3-90f0-49f0-81db-97fb4ac5ea4c\">\n",
              "    <div class=\"colab-df-container\">\n",
              "      <div>\n",
              "<style scoped>\n",
              "    .dataframe tbody tr th:only-of-type {\n",
              "        vertical-align: middle;\n",
              "    }\n",
              "\n",
              "    .dataframe tbody tr th {\n",
              "        vertical-align: top;\n",
              "    }\n",
              "\n",
              "    .dataframe thead th {\n",
              "        text-align: right;\n",
              "    }\n",
              "</style>\n",
              "<table border=\"1\" class=\"dataframe\">\n",
              "  <thead>\n",
              "    <tr style=\"text-align: right;\">\n",
              "      <th></th>\n",
              "      <th>ID</th>\n",
              "      <th>Код_группы</th>\n",
              "      <th>Год_Поступления</th>\n",
              "      <th>Пол</th>\n",
              "      <th>Основания</th>\n",
              "      <th>Изучаемый_Язык</th>\n",
              "      <th>Дата_Рождения</th>\n",
              "      <th>Уч_Заведение</th>\n",
              "      <th>Где_Находится_УЗ</th>\n",
              "      <th>Год_Окончания_УЗ</th>\n",
              "      <th>...</th>\n",
              "      <th>Общежитие</th>\n",
              "      <th>Наличие_Матери</th>\n",
              "      <th>Наличие_Отца</th>\n",
              "      <th>Страна_Родители</th>\n",
              "      <th>Опекунство</th>\n",
              "      <th>Село</th>\n",
              "      <th>Иностранец</th>\n",
              "      <th>КодФакультета</th>\n",
              "      <th>СрБаллАттестата</th>\n",
              "      <th>Статус</th>\n",
              "    </tr>\n",
              "  </thead>\n",
              "  <tbody>\n",
              "    <tr>\n",
              "      <th>0</th>\n",
              "      <td>72716</td>\n",
              "      <td>16019</td>\n",
              "      <td>2015</td>\n",
              "      <td>Жен</td>\n",
              "      <td>ОО</td>\n",
              "      <td>Английский язык</td>\n",
              "      <td>1998-02-08 00:00:00.000</td>\n",
              "      <td>МБОУ \"СОШ №59\"</td>\n",
              "      <td>Алтайский край, Барнаул г</td>\n",
              "      <td>2014.0</td>\n",
              "      <td>...</td>\n",
              "      <td>0.0</td>\n",
              "      <td>0</td>\n",
              "      <td>0.0</td>\n",
              "      <td>Россия</td>\n",
              "      <td>0.0</td>\n",
              "      <td>0.0</td>\n",
              "      <td>0.0</td>\n",
              "      <td>41.0</td>\n",
              "      <td>4.294</td>\n",
              "      <td>3</td>\n",
              "    </tr>\n",
              "    <tr>\n",
              "      <th>1</th>\n",
              "      <td>63306</td>\n",
              "      <td>14895</td>\n",
              "      <td>2010</td>\n",
              "      <td>Муж</td>\n",
              "      <td>ЦН</td>\n",
              "      <td>NaN</td>\n",
              "      <td>1992-04-18 00:00:00.000</td>\n",
              "      <td>NaN</td>\n",
              "      <td>NaN</td>\n",
              "      <td>NaN</td>\n",
              "      <td>...</td>\n",
              "      <td>0.0</td>\n",
              "      <td>1</td>\n",
              "      <td>1.0</td>\n",
              "      <td>Россия</td>\n",
              "      <td>0.0</td>\n",
              "      <td>0.0</td>\n",
              "      <td>0.0</td>\n",
              "      <td>28.0</td>\n",
              "      <td>67.000</td>\n",
              "      <td>4</td>\n",
              "    </tr>\n",
              "    <tr>\n",
              "      <th>2</th>\n",
              "      <td>82469</td>\n",
              "      <td>20103</td>\n",
              "      <td>2017</td>\n",
              "      <td>Жен</td>\n",
              "      <td>ДН</td>\n",
              "      <td>Английский язык</td>\n",
              "      <td>1999-03-21 00:00:00.000</td>\n",
              "      <td>МБОУ Алтайская СОШ №5</td>\n",
              "      <td>Алтайский край, Алтайский р-н, Алтайское с</td>\n",
              "      <td>2017.0</td>\n",
              "      <td>...</td>\n",
              "      <td>0.0</td>\n",
              "      <td>1</td>\n",
              "      <td>1.0</td>\n",
              "      <td>Россия</td>\n",
              "      <td>0.0</td>\n",
              "      <td>0.0</td>\n",
              "      <td>0.0</td>\n",
              "      <td>41.0</td>\n",
              "      <td>4.133</td>\n",
              "      <td>4</td>\n",
              "    </tr>\n",
              "    <tr>\n",
              "      <th>3</th>\n",
              "      <td>81661</td>\n",
              "      <td>19838</td>\n",
              "      <td>2017</td>\n",
              "      <td>Жен</td>\n",
              "      <td>БН</td>\n",
              "      <td>Английский язык</td>\n",
              "      <td>1994-12-08 00:00:00.000</td>\n",
              "      <td>ФГБОУ ВО Алтайский государственный университет</td>\n",
              "      <td>Алтайский край, г. Барнаул</td>\n",
              "      <td>2017.0</td>\n",
              "      <td>...</td>\n",
              "      <td>0.0</td>\n",
              "      <td>1</td>\n",
              "      <td>1.0</td>\n",
              "      <td>Россия</td>\n",
              "      <td>0.0</td>\n",
              "      <td>0.0</td>\n",
              "      <td>0.0</td>\n",
              "      <td>35.0</td>\n",
              "      <td>74.000</td>\n",
              "      <td>4</td>\n",
              "    </tr>\n",
              "    <tr>\n",
              "      <th>4</th>\n",
              "      <td>81509</td>\n",
              "      <td>19803</td>\n",
              "      <td>2017</td>\n",
              "      <td>Жен</td>\n",
              "      <td>БН</td>\n",
              "      <td>Английский язык</td>\n",
              "      <td>1995-06-28 00:00:00.000</td>\n",
              "      <td>ФГБОУ ВО Алтайский государственный университет</td>\n",
              "      <td>Алтайский край, г. Барнаул</td>\n",
              "      <td>2017.0</td>\n",
              "      <td>...</td>\n",
              "      <td>0.0</td>\n",
              "      <td>1</td>\n",
              "      <td>1.0</td>\n",
              "      <td>Россия</td>\n",
              "      <td>0.0</td>\n",
              "      <td>0.0</td>\n",
              "      <td>0.0</td>\n",
              "      <td>28.0</td>\n",
              "      <td>53.000</td>\n",
              "      <td>4</td>\n",
              "    </tr>\n",
              "  </tbody>\n",
              "</table>\n",
              "<p>5 rows × 24 columns</p>\n",
              "</div>\n",
              "      <button class=\"colab-df-convert\" onclick=\"convertToInteractive('df-62a83dc3-90f0-49f0-81db-97fb4ac5ea4c')\"\n",
              "              title=\"Convert this dataframe to an interactive table.\"\n",
              "              style=\"display:none;\">\n",
              "        \n",
              "  <svg xmlns=\"http://www.w3.org/2000/svg\" height=\"24px\"viewBox=\"0 0 24 24\"\n",
              "       width=\"24px\">\n",
              "    <path d=\"M0 0h24v24H0V0z\" fill=\"none\"/>\n",
              "    <path d=\"M18.56 5.44l.94 2.06.94-2.06 2.06-.94-2.06-.94-.94-2.06-.94 2.06-2.06.94zm-11 1L8.5 8.5l.94-2.06 2.06-.94-2.06-.94L8.5 2.5l-.94 2.06-2.06.94zm10 10l.94 2.06.94-2.06 2.06-.94-2.06-.94-.94-2.06-.94 2.06-2.06.94z\"/><path d=\"M17.41 7.96l-1.37-1.37c-.4-.4-.92-.59-1.43-.59-.52 0-1.04.2-1.43.59L10.3 9.45l-7.72 7.72c-.78.78-.78 2.05 0 2.83L4 21.41c.39.39.9.59 1.41.59.51 0 1.02-.2 1.41-.59l7.78-7.78 2.81-2.81c.8-.78.8-2.07 0-2.86zM5.41 20L4 18.59l7.72-7.72 1.47 1.35L5.41 20z\"/>\n",
              "  </svg>\n",
              "      </button>\n",
              "      \n",
              "  <style>\n",
              "    .colab-df-container {\n",
              "      display:flex;\n",
              "      flex-wrap:wrap;\n",
              "      gap: 12px;\n",
              "    }\n",
              "\n",
              "    .colab-df-convert {\n",
              "      background-color: #E8F0FE;\n",
              "      border: none;\n",
              "      border-radius: 50%;\n",
              "      cursor: pointer;\n",
              "      display: none;\n",
              "      fill: #1967D2;\n",
              "      height: 32px;\n",
              "      padding: 0 0 0 0;\n",
              "      width: 32px;\n",
              "    }\n",
              "\n",
              "    .colab-df-convert:hover {\n",
              "      background-color: #E2EBFA;\n",
              "      box-shadow: 0px 1px 2px rgba(60, 64, 67, 0.3), 0px 1px 3px 1px rgba(60, 64, 67, 0.15);\n",
              "      fill: #174EA6;\n",
              "    }\n",
              "\n",
              "    [theme=dark] .colab-df-convert {\n",
              "      background-color: #3B4455;\n",
              "      fill: #D2E3FC;\n",
              "    }\n",
              "\n",
              "    [theme=dark] .colab-df-convert:hover {\n",
              "      background-color: #434B5C;\n",
              "      box-shadow: 0px 1px 3px 1px rgba(0, 0, 0, 0.15);\n",
              "      filter: drop-shadow(0px 1px 2px rgba(0, 0, 0, 0.3));\n",
              "      fill: #FFFFFF;\n",
              "    }\n",
              "  </style>\n",
              "\n",
              "      <script>\n",
              "        const buttonEl =\n",
              "          document.querySelector('#df-62a83dc3-90f0-49f0-81db-97fb4ac5ea4c button.colab-df-convert');\n",
              "        buttonEl.style.display =\n",
              "          google.colab.kernel.accessAllowed ? 'block' : 'none';\n",
              "\n",
              "        async function convertToInteractive(key) {\n",
              "          const element = document.querySelector('#df-62a83dc3-90f0-49f0-81db-97fb4ac5ea4c');\n",
              "          const dataTable =\n",
              "            await google.colab.kernel.invokeFunction('convertToInteractive',\n",
              "                                                     [key], {});\n",
              "          if (!dataTable) return;\n",
              "\n",
              "          const docLinkHtml = 'Like what you see? Visit the ' +\n",
              "            '<a target=\"_blank\" href=https://colab.research.google.com/notebooks/data_table.ipynb>data table notebook</a>'\n",
              "            + ' to learn more about interactive tables.';\n",
              "          element.innerHTML = '';\n",
              "          dataTable['output_type'] = 'display_data';\n",
              "          await google.colab.output.renderOutput(dataTable, element);\n",
              "          const docLink = document.createElement('div');\n",
              "          docLink.innerHTML = docLinkHtml;\n",
              "          element.appendChild(docLink);\n",
              "        }\n",
              "      </script>\n",
              "    </div>\n",
              "  </div>\n",
              "  "
            ]
          },
          "metadata": {},
          "execution_count": 102
        }
      ]
    },
    {
      "cell_type": "code",
      "source": [
        "df.info()"
      ],
      "metadata": {
        "colab": {
          "base_uri": "https://localhost:8080/"
        },
        "id": "e8vjGROjrgxD",
        "outputId": "b577dfb4-b214-40aa-bc02-3977b04c1997"
      },
      "execution_count": 103,
      "outputs": [
        {
          "output_type": "stream",
          "name": "stdout",
          "text": [
            "<class 'pandas.core.frame.DataFrame'>\n",
            "RangeIndex: 13584 entries, 0 to 13583\n",
            "Data columns (total 24 columns):\n",
            " #   Column            Non-Null Count  Dtype  \n",
            "---  ------            --------------  -----  \n",
            " 0   ID                13584 non-null  int64  \n",
            " 1   Код_группы        13584 non-null  int64  \n",
            " 2   Год_Поступления   13584 non-null  int64  \n",
            " 3   Пол               13577 non-null  object \n",
            " 4   Основания         13584 non-null  object \n",
            " 5   Изучаемый_Язык    12758 non-null  object \n",
            " 6   Дата_Рождения     13584 non-null  object \n",
            " 7   Уч_Заведение      12351 non-null  object \n",
            " 8   Где_Находится_УЗ  12203 non-null  object \n",
            " 9   Год_Окончания_УЗ  12284 non-null  float64\n",
            " 10  Пособие           12576 non-null  float64\n",
            " 11  Страна_ПП         13237 non-null  object \n",
            " 12  Регион_ПП         12966 non-null  object \n",
            " 13  Город_ПП          13141 non-null  object \n",
            " 14  Общежитие         13498 non-null  float64\n",
            " 15  Наличие_Матери    13584 non-null  int64  \n",
            " 16  Наличие_Отца      13584 non-null  float64\n",
            " 17  Страна_Родители   13126 non-null  object \n",
            " 18  Опекунство        13584 non-null  float64\n",
            " 19  Село              13498 non-null  float64\n",
            " 20  Иностранец        13274 non-null  float64\n",
            " 21  КодФакультета     13584 non-null  float64\n",
            " 22  СрБаллАттестата   13584 non-null  float64\n",
            " 23  Статус            13584 non-null  int64  \n",
            "dtypes: float64(9), int64(5), object(10)\n",
            "memory usage: 2.5+ MB\n"
          ]
        }
      ]
    },
    {
      "cell_type": "code",
      "source": [
        "df.value_counts('Основания')"
      ],
      "metadata": {
        "colab": {
          "base_uri": "https://localhost:8080/"
        },
        "id": "9hSembt_Sidv",
        "outputId": "437e199a-416c-4e90-9e82-e9862dce7649"
      },
      "execution_count": 104,
      "outputs": [
        {
          "output_type": "execute_result",
          "data": {
            "text/plain": [
              "Основания\n",
              "ОО    5084\n",
              "СН    4558\n",
              "БН    1882\n",
              "ДН    1853\n",
              "ЦН     207\n",
              "dtype: int64"
            ]
          },
          "metadata": {},
          "execution_count": 104
        }
      ]
    },
    {
      "cell_type": "code",
      "source": [
        "df.value_counts('Страна_Родители')"
      ],
      "metadata": {
        "colab": {
          "base_uri": "https://localhost:8080/"
        },
        "id": "QdhvU_TXJ39z",
        "outputId": "af321a67-28b6-4564-9cf1-06302b86c015"
      },
      "execution_count": 105,
      "outputs": [
        {
          "output_type": "execute_result",
          "data": {
            "text/plain": [
              "Страна_Родители\n",
              "Россия                    12239\n",
              "Казахстан                   514\n",
              "Китай                       147\n",
              "Таджикистан                 133\n",
              "Кыргызстан                   37\n",
              "Киргизия                     31\n",
              "Туркменистан                  5\n",
              "Армения                       3\n",
              "Кыргызская Республика         3\n",
              "Узбекистан                    3\n",
              "Монголия                      2\n",
              "Республика Таджикистан        2\n",
              "Украина                       1\n",
              "Нигерия                       1\n",
              "Республика Молдова            1\n",
              "Республика Казахстан          1\n",
              "Германия                      1\n",
              "КНР                           1\n",
              "казахстан                     1\n",
              "dtype: int64"
            ]
          },
          "metadata": {},
          "execution_count": 105
        }
      ]
    },
    {
      "cell_type": "markdown",
      "source": [
        "##Произведем замены "
      ],
      "metadata": {
        "id": "rCTwPMwWTF4R"
      }
    },
    {
      "cell_type": "code",
      "source": [
        "df['Страна_Родители'] = df['Страна_Родители'].replace({'казахстан': \"Казахстан\", 'Кыргызская Республика': \"Кыргызстан\", 'Республика Таджикистан' : \"Таджикистан\", \"Республика Казахстан\" : \"Казахстан\", \"Республика Молдова\" : \"Молдова\"})"
      ],
      "metadata": {
        "id": "2cKI5rWbWi9V"
      },
      "execution_count": 106,
      "outputs": []
    },
    {
      "cell_type": "code",
      "source": [
        "df.value_counts('Страна_Родители')"
      ],
      "metadata": {
        "colab": {
          "base_uri": "https://localhost:8080/"
        },
        "id": "Kq0R25sUXA35",
        "outputId": "303f022e-d45d-41c4-819d-a88be3acb08a"
      },
      "execution_count": 107,
      "outputs": [
        {
          "output_type": "execute_result",
          "data": {
            "text/plain": [
              "Страна_Родители\n",
              "Россия          12239\n",
              "Казахстан         516\n",
              "Китай             147\n",
              "Таджикистан       135\n",
              "Кыргызстан         40\n",
              "Киргизия           31\n",
              "Туркменистан        5\n",
              "Армения             3\n",
              "Узбекистан          3\n",
              "Монголия            2\n",
              "Германия            1\n",
              "КНР                 1\n",
              "Молдова             1\n",
              "Нигерия             1\n",
              "Украина             1\n",
              "dtype: int64"
            ]
          },
          "metadata": {},
          "execution_count": 107
        }
      ]
    },
    {
      "cell_type": "code",
      "source": [
        "import pandas as pd\n",
        "from sklearn import preprocessing\n",
        "le=preprocessing.LabelEncoder()\n",
        "df['Страна_Родители']=le.fit_transform(df['Страна_Родители'].values)\n",
        "df['Страна_Родители'].value_counts()"
      ],
      "metadata": {
        "colab": {
          "base_uri": "https://localhost:8080/"
        },
        "id": "6-GywBiEXJuj",
        "outputId": "d6db80bf-bc74-4e9e-a8de-c57ea229bb21"
      },
      "execution_count": 108,
      "outputs": [
        {
          "output_type": "execute_result",
          "data": {
            "text/plain": [
              "10    12239\n",
              "3       516\n",
              "15      458\n",
              "5       147\n",
              "11      135\n",
              "6        40\n",
              "4        31\n",
              "12        5\n",
              "0         3\n",
              "13        3\n",
              "8         2\n",
              "1         1\n",
              "7         1\n",
              "9         1\n",
              "14        1\n",
              "2         1\n",
              "Name: Страна_Родители, dtype: int64"
            ]
          },
          "metadata": {},
          "execution_count": 108
        }
      ]
    },
    {
      "cell_type": "code",
      "source": [
        "df = df[pd.to_numeric(df['Основания'], errors='coerce').isna()]"
      ],
      "metadata": {
        "id": "llkYaW7yZXWi"
      },
      "execution_count": 109,
      "outputs": []
    },
    {
      "cell_type": "code",
      "source": [
        "df.value_counts('Основания')"
      ],
      "metadata": {
        "colab": {
          "base_uri": "https://localhost:8080/"
        },
        "id": "UfwEppJPWy9V",
        "outputId": "2f23d765-84dd-4bfd-e5b7-6907cbd04de7"
      },
      "execution_count": 110,
      "outputs": [
        {
          "output_type": "execute_result",
          "data": {
            "text/plain": [
              "Основания\n",
              "ОО    5084\n",
              "СН    4558\n",
              "БН    1882\n",
              "ДН    1853\n",
              "ЦН     207\n",
              "dtype: int64"
            ]
          },
          "metadata": {},
          "execution_count": 110
        }
      ]
    },
    {
      "cell_type": "code",
      "source": [
        "df['Основания']=le.fit_transform(df['Основания'].values)\n",
        "df['Основания'].value_counts()"
      ],
      "metadata": {
        "colab": {
          "base_uri": "https://localhost:8080/"
        },
        "id": "fVxGwfYiXdvj",
        "outputId": "523dc4ec-adab-47eb-ef06-f17bfdd96710"
      },
      "execution_count": 111,
      "outputs": [
        {
          "output_type": "execute_result",
          "data": {
            "text/plain": [
              "2    5084\n",
              "3    4558\n",
              "0    1882\n",
              "1    1853\n",
              "4     207\n",
              "Name: Основания, dtype: int64"
            ]
          },
          "metadata": {},
          "execution_count": 111
        }
      ]
    },
    {
      "cell_type": "code",
      "source": [
        "df['Изучаемый_Язык'] = df['Изучаемый_Язык'].replace(np.nan, \"0\")"
      ],
      "metadata": {
        "id": "KRzgr-FwaK93"
      },
      "execution_count": 112,
      "outputs": []
    },
    {
      "cell_type": "code",
      "source": [
        "df.info()"
      ],
      "metadata": {
        "id": "zTA4PPUnr4N8",
        "colab": {
          "base_uri": "https://localhost:8080/"
        },
        "outputId": "d2eb2fac-c44b-4b88-e94a-503648184e8e"
      },
      "execution_count": 113,
      "outputs": [
        {
          "output_type": "stream",
          "name": "stdout",
          "text": [
            "<class 'pandas.core.frame.DataFrame'>\n",
            "Int64Index: 13584 entries, 0 to 13583\n",
            "Data columns (total 24 columns):\n",
            " #   Column            Non-Null Count  Dtype  \n",
            "---  ------            --------------  -----  \n",
            " 0   ID                13584 non-null  int64  \n",
            " 1   Код_группы        13584 non-null  int64  \n",
            " 2   Год_Поступления   13584 non-null  int64  \n",
            " 3   Пол               13577 non-null  object \n",
            " 4   Основания         13584 non-null  int64  \n",
            " 5   Изучаемый_Язык    13584 non-null  object \n",
            " 6   Дата_Рождения     13584 non-null  object \n",
            " 7   Уч_Заведение      12351 non-null  object \n",
            " 8   Где_Находится_УЗ  12203 non-null  object \n",
            " 9   Год_Окончания_УЗ  12284 non-null  float64\n",
            " 10  Пособие           12576 non-null  float64\n",
            " 11  Страна_ПП         13237 non-null  object \n",
            " 12  Регион_ПП         12966 non-null  object \n",
            " 13  Город_ПП          13141 non-null  object \n",
            " 14  Общежитие         13498 non-null  float64\n",
            " 15  Наличие_Матери    13584 non-null  int64  \n",
            " 16  Наличие_Отца      13584 non-null  float64\n",
            " 17  Страна_Родители   13584 non-null  int64  \n",
            " 18  Опекунство        13584 non-null  float64\n",
            " 19  Село              13498 non-null  float64\n",
            " 20  Иностранец        13274 non-null  float64\n",
            " 21  КодФакультета     13584 non-null  float64\n",
            " 22  СрБаллАттестата   13584 non-null  float64\n",
            " 23  Статус            13584 non-null  int64  \n",
            "dtypes: float64(9), int64(7), object(8)\n",
            "memory usage: 2.6+ MB\n"
          ]
        }
      ]
    },
    {
      "cell_type": "code",
      "source": [
        "df.value_counts('Изучаемый_Язык')"
      ],
      "metadata": {
        "colab": {
          "base_uri": "https://localhost:8080/"
        },
        "id": "vHVI1ecFabpm",
        "outputId": "a5c934c7-6f52-4b66-b1be-ffe21df7a6fe"
      },
      "execution_count": 114,
      "outputs": [
        {
          "output_type": "execute_result",
          "data": {
            "text/plain": [
              "Изучаемый_Язык\n",
              "Английский язык                  10450\n",
              "Немецкий язык                     2219\n",
              "0                                  826\n",
              "Французский язык                    54\n",
              "Русский язык                        11\n",
              "Англиийский                         10\n",
              "Иностранный язык (Английский)       10\n",
              "Иностранный язык (Немецкий)          4\n",
              "dtype: int64"
            ]
          },
          "metadata": {},
          "execution_count": 114
        }
      ]
    },
    {
      "cell_type": "code",
      "source": [
        "df.shape"
      ],
      "metadata": {
        "colab": {
          "base_uri": "https://localhost:8080/"
        },
        "id": "UFGWyPnvxkWb",
        "outputId": "78611cf2-2129-4c99-d6b9-1ff2eec7b49e"
      },
      "execution_count": 115,
      "outputs": [
        {
          "output_type": "execute_result",
          "data": {
            "text/plain": [
              "(13584, 24)"
            ]
          },
          "metadata": {},
          "execution_count": 115
        }
      ]
    },
    {
      "cell_type": "code",
      "source": [
        "df['Изучаемый_Язык'] = df['Изучаемый_Язык'].replace({'Иностранный язык (Английский)': \"Английский язык\", 'Иностранный язык (Немецкий)': \"Немецкий язык\", 'Англиийский' : \"Английский язык\", \"Английский, немецкий языки\" : np.nan})"
      ],
      "metadata": {
        "id": "XkOezDn8apzH"
      },
      "execution_count": 116,
      "outputs": []
    },
    {
      "cell_type": "code",
      "source": [
        "df.value_counts('Изучаемый_Язык')"
      ],
      "metadata": {
        "colab": {
          "base_uri": "https://localhost:8080/"
        },
        "id": "HxeFn6yrbEyD",
        "outputId": "552a05eb-38c0-4556-eb1f-9f59d4e18113"
      },
      "execution_count": 117,
      "outputs": [
        {
          "output_type": "execute_result",
          "data": {
            "text/plain": [
              "Изучаемый_Язык\n",
              "Английский язык     10470\n",
              "Немецкий язык        2223\n",
              "0                     826\n",
              "Французский язык       54\n",
              "Русский язык           11\n",
              "dtype: int64"
            ]
          },
          "metadata": {},
          "execution_count": 117
        }
      ]
    },
    {
      "cell_type": "code",
      "source": [
        "df['Изучаемый_Язык']=le.fit_transform(df['Изучаемый_Язык'].values)\n",
        "df['Изучаемый_Язык'].value_counts()"
      ],
      "metadata": {
        "colab": {
          "base_uri": "https://localhost:8080/"
        },
        "id": "rwY8L7AJbL60",
        "outputId": "d32cd359-26b7-447c-81f1-76a8ded51ed3"
      },
      "execution_count": 118,
      "outputs": [
        {
          "output_type": "execute_result",
          "data": {
            "text/plain": [
              "1    10470\n",
              "2     2223\n",
              "0      826\n",
              "4       54\n",
              "3       11\n",
              "Name: Изучаемый_Язык, dtype: int64"
            ]
          },
          "metadata": {},
          "execution_count": 118
        }
      ]
    },
    {
      "cell_type": "code",
      "source": [
        "df['Пол'] = df['Пол'].replace({'муж': \"Муж\", 'жен': \"Жен\"})"
      ],
      "metadata": {
        "id": "qh7aGxeacAPD"
      },
      "execution_count": 119,
      "outputs": []
    },
    {
      "cell_type": "code",
      "source": [
        "df.value_counts('Пол')"
      ],
      "metadata": {
        "colab": {
          "base_uri": "https://localhost:8080/"
        },
        "id": "2hw4MLYob3Vi",
        "outputId": "1dfa5ceb-0ff9-44c1-a9de-0e91a90f7086"
      },
      "execution_count": 120,
      "outputs": [
        {
          "output_type": "execute_result",
          "data": {
            "text/plain": [
              "Пол\n",
              "Жен    8133\n",
              "Муж    5444\n",
              "dtype: int64"
            ]
          },
          "metadata": {},
          "execution_count": 120
        }
      ]
    },
    {
      "cell_type": "code",
      "source": [
        "df.value_counts('Пол')"
      ],
      "metadata": {
        "colab": {
          "base_uri": "https://localhost:8080/"
        },
        "id": "v5Rw5MlncfsZ",
        "outputId": "9a616867-51fe-4558-a542-4712e03e17b5"
      },
      "execution_count": 121,
      "outputs": [
        {
          "output_type": "execute_result",
          "data": {
            "text/plain": [
              "Пол\n",
              "Жен    8133\n",
              "Муж    5444\n",
              "dtype: int64"
            ]
          },
          "metadata": {},
          "execution_count": 121
        }
      ]
    },
    {
      "cell_type": "code",
      "source": [
        "df['Пол']=le.fit_transform(df['Пол'].values)\n",
        "df['Пол'].value_counts()"
      ],
      "metadata": {
        "colab": {
          "base_uri": "https://localhost:8080/"
        },
        "id": "u3CKmW3IciWZ",
        "outputId": "d4ceadb8-502d-4cb1-ca67-8f41bc353511"
      },
      "execution_count": 122,
      "outputs": [
        {
          "output_type": "execute_result",
          "data": {
            "text/plain": [
              "0    8133\n",
              "1    5444\n",
              "2       7\n",
              "Name: Пол, dtype: int64"
            ]
          },
          "metadata": {},
          "execution_count": 122
        }
      ]
    },
    {
      "cell_type": "code",
      "source": [
        "correlation = df.corr()[\"Статус\"]\n",
        "correlation"
      ],
      "metadata": {
        "colab": {
          "base_uri": "https://localhost:8080/"
        },
        "id": "1w8p5Ck7s5kJ",
        "outputId": "d7f34124-0b32-43fa-c35d-e8ce2b0bab2e"
      },
      "execution_count": 123,
      "outputs": [
        {
          "output_type": "execute_result",
          "data": {
            "text/plain": [
              "ID                 -0.265286\n",
              "Код_группы         -0.184447\n",
              "Год_Поступления    -0.234061\n",
              "Пол                -0.127590\n",
              "Основания          -0.133212\n",
              "Изучаемый_Язык     -0.028610\n",
              "Год_Окончания_УЗ   -0.101810\n",
              "Пособие                  NaN\n",
              "Общежитие          -0.036606\n",
              "Наличие_Матери     -0.028311\n",
              "Наличие_Отца       -0.029946\n",
              "Страна_Родители     0.040450\n",
              "Опекунство         -0.031248\n",
              "Село                0.015433\n",
              "Иностранец         -0.083175\n",
              "КодФакультета      -0.045014\n",
              "СрБаллАттестата    -0.034221\n",
              "Статус              1.000000\n",
              "Name: Статус, dtype: float64"
            ]
          },
          "metadata": {},
          "execution_count": 123
        }
      ]
    },
    {
      "cell_type": "code",
      "source": [
        "df.shape"
      ],
      "metadata": {
        "colab": {
          "base_uri": "https://localhost:8080/"
        },
        "id": "2iRZ5v-y9tIr",
        "outputId": "c9b9f9bd-954c-41fa-9d3b-d6d8d1648d91"
      },
      "execution_count": 124,
      "outputs": [
        {
          "output_type": "execute_result",
          "data": {
            "text/plain": [
              "(13584, 24)"
            ]
          },
          "metadata": {},
          "execution_count": 124
        }
      ]
    },
    {
      "cell_type": "code",
      "source": [
        "df.isnull().sum()"
      ],
      "metadata": {
        "colab": {
          "base_uri": "https://localhost:8080/"
        },
        "id": "JZaatyhpZ8j0",
        "outputId": "8c4b1522-1b4a-47a6-b4ac-d551f39c4bd2"
      },
      "execution_count": 125,
      "outputs": [
        {
          "output_type": "execute_result",
          "data": {
            "text/plain": [
              "ID                     0\n",
              "Код_группы             0\n",
              "Год_Поступления        0\n",
              "Пол                    0\n",
              "Основания              0\n",
              "Изучаемый_Язык         0\n",
              "Дата_Рождения          0\n",
              "Уч_Заведение        1233\n",
              "Где_Находится_УЗ    1381\n",
              "Год_Окончания_УЗ    1300\n",
              "Пособие             1008\n",
              "Страна_ПП            347\n",
              "Регион_ПП            618\n",
              "Город_ПП             443\n",
              "Общежитие             86\n",
              "Наличие_Матери         0\n",
              "Наличие_Отца           0\n",
              "Страна_Родители        0\n",
              "Опекунство             0\n",
              "Село                  86\n",
              "Иностранец           310\n",
              "КодФакультета          0\n",
              "СрБаллАттестата        0\n",
              "Статус                 0\n",
              "dtype: int64"
            ]
          },
          "metadata": {},
          "execution_count": 125
        }
      ]
    },
    {
      "cell_type": "code",
      "source": [
        "df['Пособие'] = df['Пособие'].fillna(0)\n",
        "df['Общежитие'] = df['Общежитие'].fillna(0)\n",
        "df['Село'] = df['Село'].fillna(0)\n",
        "df['Иностранец'] = df['Иностранец'].fillna(0)"
      ],
      "metadata": {
        "id": "2WZLdHvMZcuv"
      },
      "execution_count": 126,
      "outputs": []
    },
    {
      "cell_type": "code",
      "source": [
        "df.isnull().sum()"
      ],
      "metadata": {
        "colab": {
          "base_uri": "https://localhost:8080/"
        },
        "id": "X9HdM99tdZRQ",
        "outputId": "8a62d1a4-b613-4110-e5fe-04ac43f65c9a"
      },
      "execution_count": 127,
      "outputs": [
        {
          "output_type": "execute_result",
          "data": {
            "text/plain": [
              "ID                     0\n",
              "Код_группы             0\n",
              "Год_Поступления        0\n",
              "Пол                    0\n",
              "Основания              0\n",
              "Изучаемый_Язык         0\n",
              "Дата_Рождения          0\n",
              "Уч_Заведение        1233\n",
              "Где_Находится_УЗ    1381\n",
              "Год_Окончания_УЗ    1300\n",
              "Пособие                0\n",
              "Страна_ПП            347\n",
              "Регион_ПП            618\n",
              "Город_ПП             443\n",
              "Общежитие              0\n",
              "Наличие_Матери         0\n",
              "Наличие_Отца           0\n",
              "Страна_Родители        0\n",
              "Опекунство             0\n",
              "Село                   0\n",
              "Иностранец             0\n",
              "КодФакультета          0\n",
              "СрБаллАттестата        0\n",
              "Статус                 0\n",
              "dtype: int64"
            ]
          },
          "metadata": {},
          "execution_count": 127
        }
      ]
    },
    {
      "cell_type": "code",
      "source": [
        "df.shape"
      ],
      "metadata": {
        "colab": {
          "base_uri": "https://localhost:8080/"
        },
        "id": "3FTMVpxW9wnQ",
        "outputId": "7b62dd03-af75-4df5-deb8-6247ec1ed2fd"
      },
      "execution_count": 128,
      "outputs": [
        {
          "output_type": "execute_result",
          "data": {
            "text/plain": [
              "(13584, 24)"
            ]
          },
          "metadata": {},
          "execution_count": 128
        }
      ]
    },
    {
      "cell_type": "code",
      "source": [
        "df.head(5)"
      ],
      "metadata": {
        "colab": {
          "base_uri": "https://localhost:8080/",
          "height": 473
        },
        "id": "tcbdHwXrZoBs",
        "outputId": "e278557d-d0ca-41d8-c44c-844835efa4e4"
      },
      "execution_count": 129,
      "outputs": [
        {
          "output_type": "execute_result",
          "data": {
            "text/plain": [
              "      ID  Код_группы  Год_Поступления  Пол  Основания  Изучаемый_Язык  \\\n",
              "0  72716       16019             2015    0          2               1   \n",
              "1  63306       14895             2010    1          4               0   \n",
              "2  82469       20103             2017    0          1               1   \n",
              "3  81661       19838             2017    0          0               1   \n",
              "4  81509       19803             2017    0          0               1   \n",
              "\n",
              "             Дата_Рождения                                    Уч_Заведение  \\\n",
              "0  1998-02-08 00:00:00.000                                  МБОУ \"СОШ №59\"   \n",
              "1  1992-04-18 00:00:00.000                                             NaN   \n",
              "2  1999-03-21 00:00:00.000                           МБОУ Алтайская СОШ №5   \n",
              "3  1994-12-08 00:00:00.000  ФГБОУ ВО Алтайский государственный университет   \n",
              "4  1995-06-28 00:00:00.000  ФГБОУ ВО Алтайский государственный университет   \n",
              "\n",
              "                             Где_Находится_УЗ  Год_Окончания_УЗ  ...  \\\n",
              "0                   Алтайский край, Барнаул г            2014.0  ...   \n",
              "1                                         NaN               NaN  ...   \n",
              "2  Алтайский край, Алтайский р-н, Алтайское с            2017.0  ...   \n",
              "3                  Алтайский край, г. Барнаул            2017.0  ...   \n",
              "4                  Алтайский край, г. Барнаул            2017.0  ...   \n",
              "\n",
              "   Общежитие Наличие_Матери Наличие_Отца Страна_Родители  Опекунство  Село  \\\n",
              "0        0.0              0          0.0              10         0.0   0.0   \n",
              "1        0.0              1          1.0              10         0.0   0.0   \n",
              "2        0.0              1          1.0              10         0.0   0.0   \n",
              "3        0.0              1          1.0              10         0.0   0.0   \n",
              "4        0.0              1          1.0              10         0.0   0.0   \n",
              "\n",
              "   Иностранец  КодФакультета  СрБаллАттестата  Статус  \n",
              "0         0.0           41.0            4.294       3  \n",
              "1         0.0           28.0           67.000       4  \n",
              "2         0.0           41.0            4.133       4  \n",
              "3         0.0           35.0           74.000       4  \n",
              "4         0.0           28.0           53.000       4  \n",
              "\n",
              "[5 rows x 24 columns]"
            ],
            "text/html": [
              "\n",
              "  <div id=\"df-04297d6a-2617-441d-81d1-9831ae29c9e8\">\n",
              "    <div class=\"colab-df-container\">\n",
              "      <div>\n",
              "<style scoped>\n",
              "    .dataframe tbody tr th:only-of-type {\n",
              "        vertical-align: middle;\n",
              "    }\n",
              "\n",
              "    .dataframe tbody tr th {\n",
              "        vertical-align: top;\n",
              "    }\n",
              "\n",
              "    .dataframe thead th {\n",
              "        text-align: right;\n",
              "    }\n",
              "</style>\n",
              "<table border=\"1\" class=\"dataframe\">\n",
              "  <thead>\n",
              "    <tr style=\"text-align: right;\">\n",
              "      <th></th>\n",
              "      <th>ID</th>\n",
              "      <th>Код_группы</th>\n",
              "      <th>Год_Поступления</th>\n",
              "      <th>Пол</th>\n",
              "      <th>Основания</th>\n",
              "      <th>Изучаемый_Язык</th>\n",
              "      <th>Дата_Рождения</th>\n",
              "      <th>Уч_Заведение</th>\n",
              "      <th>Где_Находится_УЗ</th>\n",
              "      <th>Год_Окончания_УЗ</th>\n",
              "      <th>...</th>\n",
              "      <th>Общежитие</th>\n",
              "      <th>Наличие_Матери</th>\n",
              "      <th>Наличие_Отца</th>\n",
              "      <th>Страна_Родители</th>\n",
              "      <th>Опекунство</th>\n",
              "      <th>Село</th>\n",
              "      <th>Иностранец</th>\n",
              "      <th>КодФакультета</th>\n",
              "      <th>СрБаллАттестата</th>\n",
              "      <th>Статус</th>\n",
              "    </tr>\n",
              "  </thead>\n",
              "  <tbody>\n",
              "    <tr>\n",
              "      <th>0</th>\n",
              "      <td>72716</td>\n",
              "      <td>16019</td>\n",
              "      <td>2015</td>\n",
              "      <td>0</td>\n",
              "      <td>2</td>\n",
              "      <td>1</td>\n",
              "      <td>1998-02-08 00:00:00.000</td>\n",
              "      <td>МБОУ \"СОШ №59\"</td>\n",
              "      <td>Алтайский край, Барнаул г</td>\n",
              "      <td>2014.0</td>\n",
              "      <td>...</td>\n",
              "      <td>0.0</td>\n",
              "      <td>0</td>\n",
              "      <td>0.0</td>\n",
              "      <td>10</td>\n",
              "      <td>0.0</td>\n",
              "      <td>0.0</td>\n",
              "      <td>0.0</td>\n",
              "      <td>41.0</td>\n",
              "      <td>4.294</td>\n",
              "      <td>3</td>\n",
              "    </tr>\n",
              "    <tr>\n",
              "      <th>1</th>\n",
              "      <td>63306</td>\n",
              "      <td>14895</td>\n",
              "      <td>2010</td>\n",
              "      <td>1</td>\n",
              "      <td>4</td>\n",
              "      <td>0</td>\n",
              "      <td>1992-04-18 00:00:00.000</td>\n",
              "      <td>NaN</td>\n",
              "      <td>NaN</td>\n",
              "      <td>NaN</td>\n",
              "      <td>...</td>\n",
              "      <td>0.0</td>\n",
              "      <td>1</td>\n",
              "      <td>1.0</td>\n",
              "      <td>10</td>\n",
              "      <td>0.0</td>\n",
              "      <td>0.0</td>\n",
              "      <td>0.0</td>\n",
              "      <td>28.0</td>\n",
              "      <td>67.000</td>\n",
              "      <td>4</td>\n",
              "    </tr>\n",
              "    <tr>\n",
              "      <th>2</th>\n",
              "      <td>82469</td>\n",
              "      <td>20103</td>\n",
              "      <td>2017</td>\n",
              "      <td>0</td>\n",
              "      <td>1</td>\n",
              "      <td>1</td>\n",
              "      <td>1999-03-21 00:00:00.000</td>\n",
              "      <td>МБОУ Алтайская СОШ №5</td>\n",
              "      <td>Алтайский край, Алтайский р-н, Алтайское с</td>\n",
              "      <td>2017.0</td>\n",
              "      <td>...</td>\n",
              "      <td>0.0</td>\n",
              "      <td>1</td>\n",
              "      <td>1.0</td>\n",
              "      <td>10</td>\n",
              "      <td>0.0</td>\n",
              "      <td>0.0</td>\n",
              "      <td>0.0</td>\n",
              "      <td>41.0</td>\n",
              "      <td>4.133</td>\n",
              "      <td>4</td>\n",
              "    </tr>\n",
              "    <tr>\n",
              "      <th>3</th>\n",
              "      <td>81661</td>\n",
              "      <td>19838</td>\n",
              "      <td>2017</td>\n",
              "      <td>0</td>\n",
              "      <td>0</td>\n",
              "      <td>1</td>\n",
              "      <td>1994-12-08 00:00:00.000</td>\n",
              "      <td>ФГБОУ ВО Алтайский государственный университет</td>\n",
              "      <td>Алтайский край, г. Барнаул</td>\n",
              "      <td>2017.0</td>\n",
              "      <td>...</td>\n",
              "      <td>0.0</td>\n",
              "      <td>1</td>\n",
              "      <td>1.0</td>\n",
              "      <td>10</td>\n",
              "      <td>0.0</td>\n",
              "      <td>0.0</td>\n",
              "      <td>0.0</td>\n",
              "      <td>35.0</td>\n",
              "      <td>74.000</td>\n",
              "      <td>4</td>\n",
              "    </tr>\n",
              "    <tr>\n",
              "      <th>4</th>\n",
              "      <td>81509</td>\n",
              "      <td>19803</td>\n",
              "      <td>2017</td>\n",
              "      <td>0</td>\n",
              "      <td>0</td>\n",
              "      <td>1</td>\n",
              "      <td>1995-06-28 00:00:00.000</td>\n",
              "      <td>ФГБОУ ВО Алтайский государственный университет</td>\n",
              "      <td>Алтайский край, г. Барнаул</td>\n",
              "      <td>2017.0</td>\n",
              "      <td>...</td>\n",
              "      <td>0.0</td>\n",
              "      <td>1</td>\n",
              "      <td>1.0</td>\n",
              "      <td>10</td>\n",
              "      <td>0.0</td>\n",
              "      <td>0.0</td>\n",
              "      <td>0.0</td>\n",
              "      <td>28.0</td>\n",
              "      <td>53.000</td>\n",
              "      <td>4</td>\n",
              "    </tr>\n",
              "  </tbody>\n",
              "</table>\n",
              "<p>5 rows × 24 columns</p>\n",
              "</div>\n",
              "      <button class=\"colab-df-convert\" onclick=\"convertToInteractive('df-04297d6a-2617-441d-81d1-9831ae29c9e8')\"\n",
              "              title=\"Convert this dataframe to an interactive table.\"\n",
              "              style=\"display:none;\">\n",
              "        \n",
              "  <svg xmlns=\"http://www.w3.org/2000/svg\" height=\"24px\"viewBox=\"0 0 24 24\"\n",
              "       width=\"24px\">\n",
              "    <path d=\"M0 0h24v24H0V0z\" fill=\"none\"/>\n",
              "    <path d=\"M18.56 5.44l.94 2.06.94-2.06 2.06-.94-2.06-.94-.94-2.06-.94 2.06-2.06.94zm-11 1L8.5 8.5l.94-2.06 2.06-.94-2.06-.94L8.5 2.5l-.94 2.06-2.06.94zm10 10l.94 2.06.94-2.06 2.06-.94-2.06-.94-.94-2.06-.94 2.06-2.06.94z\"/><path d=\"M17.41 7.96l-1.37-1.37c-.4-.4-.92-.59-1.43-.59-.52 0-1.04.2-1.43.59L10.3 9.45l-7.72 7.72c-.78.78-.78 2.05 0 2.83L4 21.41c.39.39.9.59 1.41.59.51 0 1.02-.2 1.41-.59l7.78-7.78 2.81-2.81c.8-.78.8-2.07 0-2.86zM5.41 20L4 18.59l7.72-7.72 1.47 1.35L5.41 20z\"/>\n",
              "  </svg>\n",
              "      </button>\n",
              "      \n",
              "  <style>\n",
              "    .colab-df-container {\n",
              "      display:flex;\n",
              "      flex-wrap:wrap;\n",
              "      gap: 12px;\n",
              "    }\n",
              "\n",
              "    .colab-df-convert {\n",
              "      background-color: #E8F0FE;\n",
              "      border: none;\n",
              "      border-radius: 50%;\n",
              "      cursor: pointer;\n",
              "      display: none;\n",
              "      fill: #1967D2;\n",
              "      height: 32px;\n",
              "      padding: 0 0 0 0;\n",
              "      width: 32px;\n",
              "    }\n",
              "\n",
              "    .colab-df-convert:hover {\n",
              "      background-color: #E2EBFA;\n",
              "      box-shadow: 0px 1px 2px rgba(60, 64, 67, 0.3), 0px 1px 3px 1px rgba(60, 64, 67, 0.15);\n",
              "      fill: #174EA6;\n",
              "    }\n",
              "\n",
              "    [theme=dark] .colab-df-convert {\n",
              "      background-color: #3B4455;\n",
              "      fill: #D2E3FC;\n",
              "    }\n",
              "\n",
              "    [theme=dark] .colab-df-convert:hover {\n",
              "      background-color: #434B5C;\n",
              "      box-shadow: 0px 1px 3px 1px rgba(0, 0, 0, 0.15);\n",
              "      filter: drop-shadow(0px 1px 2px rgba(0, 0, 0, 0.3));\n",
              "      fill: #FFFFFF;\n",
              "    }\n",
              "  </style>\n",
              "\n",
              "      <script>\n",
              "        const buttonEl =\n",
              "          document.querySelector('#df-04297d6a-2617-441d-81d1-9831ae29c9e8 button.colab-df-convert');\n",
              "        buttonEl.style.display =\n",
              "          google.colab.kernel.accessAllowed ? 'block' : 'none';\n",
              "\n",
              "        async function convertToInteractive(key) {\n",
              "          const element = document.querySelector('#df-04297d6a-2617-441d-81d1-9831ae29c9e8');\n",
              "          const dataTable =\n",
              "            await google.colab.kernel.invokeFunction('convertToInteractive',\n",
              "                                                     [key], {});\n",
              "          if (!dataTable) return;\n",
              "\n",
              "          const docLinkHtml = 'Like what you see? Visit the ' +\n",
              "            '<a target=\"_blank\" href=https://colab.research.google.com/notebooks/data_table.ipynb>data table notebook</a>'\n",
              "            + ' to learn more about interactive tables.';\n",
              "          element.innerHTML = '';\n",
              "          dataTable['output_type'] = 'display_data';\n",
              "          await google.colab.output.renderOutput(dataTable, element);\n",
              "          const docLink = document.createElement('div');\n",
              "          docLink.innerHTML = docLinkHtml;\n",
              "          element.appendChild(docLink);\n",
              "        }\n",
              "      </script>\n",
              "    </div>\n",
              "  </div>\n",
              "  "
            ]
          },
          "metadata": {},
          "execution_count": 129
        }
      ]
    },
    {
      "cell_type": "code",
      "source": [
        "df.describe()"
      ],
      "metadata": {
        "colab": {
          "base_uri": "https://localhost:8080/",
          "height": 364
        },
        "id": "Kamd_JMBH0VF",
        "outputId": "4661f2df-455c-481f-cf04-a042155555b3"
      },
      "execution_count": 130,
      "outputs": [
        {
          "output_type": "execute_result",
          "data": {
            "text/plain": [
              "                  ID    Код_группы  Год_Поступления           Пол  \\\n",
              "count   13584.000000  13584.000000     13584.000000  13584.000000   \n",
              "mean    70096.056905  18302.499926      2014.992123      0.401796   \n",
              "std     12705.894531   2540.417956         2.595339      0.491329   \n",
              "min     44632.000000  11550.000000      2001.000000      0.000000   \n",
              "25%     63496.750000  16901.000000      2013.000000      0.000000   \n",
              "50%     71401.500000  18534.500000      2015.000000      0.000000   \n",
              "75%     78404.250000  20599.000000      2016.000000      1.000000   \n",
              "max    264403.000000  22824.000000      2212.000000      2.000000   \n",
              "\n",
              "          Основания  Изучаемый_Язык  Год_Окончания_УЗ  Пособие     Общежитие  \\\n",
              "count  13584.000000    13584.000000      12284.000000  13584.0  13584.000000   \n",
              "mean       1.952518        1.116387       2013.876018      0.0      0.218492   \n",
              "std        1.041592        0.499944          4.247111      0.0      0.413238   \n",
              "min        0.000000        0.000000       1973.000000      0.0      0.000000   \n",
              "25%        1.000000        1.000000       2013.000000      0.0      0.000000   \n",
              "50%        2.000000        1.000000       2015.000000      0.0      0.000000   \n",
              "75%        3.000000        1.000000       2016.000000      0.0      0.000000   \n",
              "max        4.000000        4.000000       2020.000000      0.0      1.000000   \n",
              "\n",
              "       Наличие_Матери  Наличие_Отца  Страна_Родители    Опекунство  \\\n",
              "count    13584.000000  13584.000000     13584.000000  13584.000000   \n",
              "mean         0.511484      0.509570         9.830683      0.000442   \n",
              "std          0.499886      0.499927         1.767552      0.021013   \n",
              "min          0.000000      0.000000         0.000000      0.000000   \n",
              "25%          0.000000      0.000000        10.000000      0.000000   \n",
              "50%          1.000000      1.000000        10.000000      0.000000   \n",
              "75%          1.000000      1.000000        10.000000      0.000000   \n",
              "max          1.000000      1.000000        15.000000      1.000000   \n",
              "\n",
              "               Село    Иностранец  КодФакультета  СрБаллАттестата  \\\n",
              "count  13584.000000  13584.000000   13584.000000     13584.000000   \n",
              "mean       0.227989      0.068978      32.500368        73.223274   \n",
              "std        0.419551      0.253426       8.458150       258.045027   \n",
              "min        0.000000      0.000000      24.000000         0.000000   \n",
              "25%        0.000000      0.000000      26.000000        47.000000   \n",
              "50%        0.000000      0.000000      28.000000        61.000000   \n",
              "75%        0.000000      0.000000      40.000000        75.000000   \n",
              "max        1.000000      1.000000      53.000000      5000.000000   \n",
              "\n",
              "             Статус  \n",
              "count  13584.000000  \n",
              "mean       3.426458  \n",
              "std        1.071765  \n",
              "min       -1.000000  \n",
              "25%        3.000000  \n",
              "50%        4.000000  \n",
              "75%        4.000000  \n",
              "max        4.000000  "
            ],
            "text/html": [
              "\n",
              "  <div id=\"df-1128191a-f656-4792-91cd-74fcb00ac696\">\n",
              "    <div class=\"colab-df-container\">\n",
              "      <div>\n",
              "<style scoped>\n",
              "    .dataframe tbody tr th:only-of-type {\n",
              "        vertical-align: middle;\n",
              "    }\n",
              "\n",
              "    .dataframe tbody tr th {\n",
              "        vertical-align: top;\n",
              "    }\n",
              "\n",
              "    .dataframe thead th {\n",
              "        text-align: right;\n",
              "    }\n",
              "</style>\n",
              "<table border=\"1\" class=\"dataframe\">\n",
              "  <thead>\n",
              "    <tr style=\"text-align: right;\">\n",
              "      <th></th>\n",
              "      <th>ID</th>\n",
              "      <th>Код_группы</th>\n",
              "      <th>Год_Поступления</th>\n",
              "      <th>Пол</th>\n",
              "      <th>Основания</th>\n",
              "      <th>Изучаемый_Язык</th>\n",
              "      <th>Год_Окончания_УЗ</th>\n",
              "      <th>Пособие</th>\n",
              "      <th>Общежитие</th>\n",
              "      <th>Наличие_Матери</th>\n",
              "      <th>Наличие_Отца</th>\n",
              "      <th>Страна_Родители</th>\n",
              "      <th>Опекунство</th>\n",
              "      <th>Село</th>\n",
              "      <th>Иностранец</th>\n",
              "      <th>КодФакультета</th>\n",
              "      <th>СрБаллАттестата</th>\n",
              "      <th>Статус</th>\n",
              "    </tr>\n",
              "  </thead>\n",
              "  <tbody>\n",
              "    <tr>\n",
              "      <th>count</th>\n",
              "      <td>13584.000000</td>\n",
              "      <td>13584.000000</td>\n",
              "      <td>13584.000000</td>\n",
              "      <td>13584.000000</td>\n",
              "      <td>13584.000000</td>\n",
              "      <td>13584.000000</td>\n",
              "      <td>12284.000000</td>\n",
              "      <td>13584.0</td>\n",
              "      <td>13584.000000</td>\n",
              "      <td>13584.000000</td>\n",
              "      <td>13584.000000</td>\n",
              "      <td>13584.000000</td>\n",
              "      <td>13584.000000</td>\n",
              "      <td>13584.000000</td>\n",
              "      <td>13584.000000</td>\n",
              "      <td>13584.000000</td>\n",
              "      <td>13584.000000</td>\n",
              "      <td>13584.000000</td>\n",
              "    </tr>\n",
              "    <tr>\n",
              "      <th>mean</th>\n",
              "      <td>70096.056905</td>\n",
              "      <td>18302.499926</td>\n",
              "      <td>2014.992123</td>\n",
              "      <td>0.401796</td>\n",
              "      <td>1.952518</td>\n",
              "      <td>1.116387</td>\n",
              "      <td>2013.876018</td>\n",
              "      <td>0.0</td>\n",
              "      <td>0.218492</td>\n",
              "      <td>0.511484</td>\n",
              "      <td>0.509570</td>\n",
              "      <td>9.830683</td>\n",
              "      <td>0.000442</td>\n",
              "      <td>0.227989</td>\n",
              "      <td>0.068978</td>\n",
              "      <td>32.500368</td>\n",
              "      <td>73.223274</td>\n",
              "      <td>3.426458</td>\n",
              "    </tr>\n",
              "    <tr>\n",
              "      <th>std</th>\n",
              "      <td>12705.894531</td>\n",
              "      <td>2540.417956</td>\n",
              "      <td>2.595339</td>\n",
              "      <td>0.491329</td>\n",
              "      <td>1.041592</td>\n",
              "      <td>0.499944</td>\n",
              "      <td>4.247111</td>\n",
              "      <td>0.0</td>\n",
              "      <td>0.413238</td>\n",
              "      <td>0.499886</td>\n",
              "      <td>0.499927</td>\n",
              "      <td>1.767552</td>\n",
              "      <td>0.021013</td>\n",
              "      <td>0.419551</td>\n",
              "      <td>0.253426</td>\n",
              "      <td>8.458150</td>\n",
              "      <td>258.045027</td>\n",
              "      <td>1.071765</td>\n",
              "    </tr>\n",
              "    <tr>\n",
              "      <th>min</th>\n",
              "      <td>44632.000000</td>\n",
              "      <td>11550.000000</td>\n",
              "      <td>2001.000000</td>\n",
              "      <td>0.000000</td>\n",
              "      <td>0.000000</td>\n",
              "      <td>0.000000</td>\n",
              "      <td>1973.000000</td>\n",
              "      <td>0.0</td>\n",
              "      <td>0.000000</td>\n",
              "      <td>0.000000</td>\n",
              "      <td>0.000000</td>\n",
              "      <td>0.000000</td>\n",
              "      <td>0.000000</td>\n",
              "      <td>0.000000</td>\n",
              "      <td>0.000000</td>\n",
              "      <td>24.000000</td>\n",
              "      <td>0.000000</td>\n",
              "      <td>-1.000000</td>\n",
              "    </tr>\n",
              "    <tr>\n",
              "      <th>25%</th>\n",
              "      <td>63496.750000</td>\n",
              "      <td>16901.000000</td>\n",
              "      <td>2013.000000</td>\n",
              "      <td>0.000000</td>\n",
              "      <td>1.000000</td>\n",
              "      <td>1.000000</td>\n",
              "      <td>2013.000000</td>\n",
              "      <td>0.0</td>\n",
              "      <td>0.000000</td>\n",
              "      <td>0.000000</td>\n",
              "      <td>0.000000</td>\n",
              "      <td>10.000000</td>\n",
              "      <td>0.000000</td>\n",
              "      <td>0.000000</td>\n",
              "      <td>0.000000</td>\n",
              "      <td>26.000000</td>\n",
              "      <td>47.000000</td>\n",
              "      <td>3.000000</td>\n",
              "    </tr>\n",
              "    <tr>\n",
              "      <th>50%</th>\n",
              "      <td>71401.500000</td>\n",
              "      <td>18534.500000</td>\n",
              "      <td>2015.000000</td>\n",
              "      <td>0.000000</td>\n",
              "      <td>2.000000</td>\n",
              "      <td>1.000000</td>\n",
              "      <td>2015.000000</td>\n",
              "      <td>0.0</td>\n",
              "      <td>0.000000</td>\n",
              "      <td>1.000000</td>\n",
              "      <td>1.000000</td>\n",
              "      <td>10.000000</td>\n",
              "      <td>0.000000</td>\n",
              "      <td>0.000000</td>\n",
              "      <td>0.000000</td>\n",
              "      <td>28.000000</td>\n",
              "      <td>61.000000</td>\n",
              "      <td>4.000000</td>\n",
              "    </tr>\n",
              "    <tr>\n",
              "      <th>75%</th>\n",
              "      <td>78404.250000</td>\n",
              "      <td>20599.000000</td>\n",
              "      <td>2016.000000</td>\n",
              "      <td>1.000000</td>\n",
              "      <td>3.000000</td>\n",
              "      <td>1.000000</td>\n",
              "      <td>2016.000000</td>\n",
              "      <td>0.0</td>\n",
              "      <td>0.000000</td>\n",
              "      <td>1.000000</td>\n",
              "      <td>1.000000</td>\n",
              "      <td>10.000000</td>\n",
              "      <td>0.000000</td>\n",
              "      <td>0.000000</td>\n",
              "      <td>0.000000</td>\n",
              "      <td>40.000000</td>\n",
              "      <td>75.000000</td>\n",
              "      <td>4.000000</td>\n",
              "    </tr>\n",
              "    <tr>\n",
              "      <th>max</th>\n",
              "      <td>264403.000000</td>\n",
              "      <td>22824.000000</td>\n",
              "      <td>2212.000000</td>\n",
              "      <td>2.000000</td>\n",
              "      <td>4.000000</td>\n",
              "      <td>4.000000</td>\n",
              "      <td>2020.000000</td>\n",
              "      <td>0.0</td>\n",
              "      <td>1.000000</td>\n",
              "      <td>1.000000</td>\n",
              "      <td>1.000000</td>\n",
              "      <td>15.000000</td>\n",
              "      <td>1.000000</td>\n",
              "      <td>1.000000</td>\n",
              "      <td>1.000000</td>\n",
              "      <td>53.000000</td>\n",
              "      <td>5000.000000</td>\n",
              "      <td>4.000000</td>\n",
              "    </tr>\n",
              "  </tbody>\n",
              "</table>\n",
              "</div>\n",
              "      <button class=\"colab-df-convert\" onclick=\"convertToInteractive('df-1128191a-f656-4792-91cd-74fcb00ac696')\"\n",
              "              title=\"Convert this dataframe to an interactive table.\"\n",
              "              style=\"display:none;\">\n",
              "        \n",
              "  <svg xmlns=\"http://www.w3.org/2000/svg\" height=\"24px\"viewBox=\"0 0 24 24\"\n",
              "       width=\"24px\">\n",
              "    <path d=\"M0 0h24v24H0V0z\" fill=\"none\"/>\n",
              "    <path d=\"M18.56 5.44l.94 2.06.94-2.06 2.06-.94-2.06-.94-.94-2.06-.94 2.06-2.06.94zm-11 1L8.5 8.5l.94-2.06 2.06-.94-2.06-.94L8.5 2.5l-.94 2.06-2.06.94zm10 10l.94 2.06.94-2.06 2.06-.94-2.06-.94-.94-2.06-.94 2.06-2.06.94z\"/><path d=\"M17.41 7.96l-1.37-1.37c-.4-.4-.92-.59-1.43-.59-.52 0-1.04.2-1.43.59L10.3 9.45l-7.72 7.72c-.78.78-.78 2.05 0 2.83L4 21.41c.39.39.9.59 1.41.59.51 0 1.02-.2 1.41-.59l7.78-7.78 2.81-2.81c.8-.78.8-2.07 0-2.86zM5.41 20L4 18.59l7.72-7.72 1.47 1.35L5.41 20z\"/>\n",
              "  </svg>\n",
              "      </button>\n",
              "      \n",
              "  <style>\n",
              "    .colab-df-container {\n",
              "      display:flex;\n",
              "      flex-wrap:wrap;\n",
              "      gap: 12px;\n",
              "    }\n",
              "\n",
              "    .colab-df-convert {\n",
              "      background-color: #E8F0FE;\n",
              "      border: none;\n",
              "      border-radius: 50%;\n",
              "      cursor: pointer;\n",
              "      display: none;\n",
              "      fill: #1967D2;\n",
              "      height: 32px;\n",
              "      padding: 0 0 0 0;\n",
              "      width: 32px;\n",
              "    }\n",
              "\n",
              "    .colab-df-convert:hover {\n",
              "      background-color: #E2EBFA;\n",
              "      box-shadow: 0px 1px 2px rgba(60, 64, 67, 0.3), 0px 1px 3px 1px rgba(60, 64, 67, 0.15);\n",
              "      fill: #174EA6;\n",
              "    }\n",
              "\n",
              "    [theme=dark] .colab-df-convert {\n",
              "      background-color: #3B4455;\n",
              "      fill: #D2E3FC;\n",
              "    }\n",
              "\n",
              "    [theme=dark] .colab-df-convert:hover {\n",
              "      background-color: #434B5C;\n",
              "      box-shadow: 0px 1px 3px 1px rgba(0, 0, 0, 0.15);\n",
              "      filter: drop-shadow(0px 1px 2px rgba(0, 0, 0, 0.3));\n",
              "      fill: #FFFFFF;\n",
              "    }\n",
              "  </style>\n",
              "\n",
              "      <script>\n",
              "        const buttonEl =\n",
              "          document.querySelector('#df-1128191a-f656-4792-91cd-74fcb00ac696 button.colab-df-convert');\n",
              "        buttonEl.style.display =\n",
              "          google.colab.kernel.accessAllowed ? 'block' : 'none';\n",
              "\n",
              "        async function convertToInteractive(key) {\n",
              "          const element = document.querySelector('#df-1128191a-f656-4792-91cd-74fcb00ac696');\n",
              "          const dataTable =\n",
              "            await google.colab.kernel.invokeFunction('convertToInteractive',\n",
              "                                                     [key], {});\n",
              "          if (!dataTable) return;\n",
              "\n",
              "          const docLinkHtml = 'Like what you see? Visit the ' +\n",
              "            '<a target=\"_blank\" href=https://colab.research.google.com/notebooks/data_table.ipynb>data table notebook</a>'\n",
              "            + ' to learn more about interactive tables.';\n",
              "          element.innerHTML = '';\n",
              "          dataTable['output_type'] = 'display_data';\n",
              "          await google.colab.output.renderOutput(dataTable, element);\n",
              "          const docLink = document.createElement('div');\n",
              "          docLink.innerHTML = docLinkHtml;\n",
              "          element.appendChild(docLink);\n",
              "        }\n",
              "      </script>\n",
              "    </div>\n",
              "  </div>\n",
              "  "
            ]
          },
          "metadata": {},
          "execution_count": 130
        }
      ]
    },
    {
      "cell_type": "markdown",
      "source": [
        "Заменим все пропуски в данных"
      ],
      "metadata": {
        "id": "IjTGeJP3u1-4"
      }
    },
    {
      "cell_type": "code",
      "source": [
        "df = df.fillna(0)"
      ],
      "metadata": {
        "id": "sWf6o_06uei9"
      },
      "execution_count": 131,
      "outputs": []
    },
    {
      "cell_type": "code",
      "source": [
        "df.isnull().any()\n",
        "# Дата_Рождения  Страна_Родители"
      ],
      "metadata": {
        "colab": {
          "base_uri": "https://localhost:8080/"
        },
        "id": "L8SjGoDN8fpZ",
        "outputId": "26069adf-ebe0-4f90-a5f1-71956cb64827"
      },
      "execution_count": 132,
      "outputs": [
        {
          "output_type": "execute_result",
          "data": {
            "text/plain": [
              "ID                  False\n",
              "Код_группы          False\n",
              "Год_Поступления     False\n",
              "Пол                 False\n",
              "Основания           False\n",
              "Изучаемый_Язык      False\n",
              "Дата_Рождения       False\n",
              "Уч_Заведение        False\n",
              "Где_Находится_УЗ    False\n",
              "Год_Окончания_УЗ    False\n",
              "Пособие             False\n",
              "Страна_ПП           False\n",
              "Регион_ПП           False\n",
              "Город_ПП            False\n",
              "Общежитие           False\n",
              "Наличие_Матери      False\n",
              "Наличие_Отца        False\n",
              "Страна_Родители     False\n",
              "Опекунство          False\n",
              "Село                False\n",
              "Иностранец          False\n",
              "КодФакультета       False\n",
              "СрБаллАттестата     False\n",
              "Статус              False\n",
              "dtype: bool"
            ]
          },
          "metadata": {},
          "execution_count": 132
        }
      ]
    },
    {
      "cell_type": "markdown",
      "source": [
        "Посмотрим на распределение данных"
      ],
      "metadata": {
        "id": "4cxnT51gu5fJ"
      }
    },
    {
      "cell_type": "code",
      "source": [
        "sns.countplot(x = \"Статус\" , data  = df).set_title('Распределение предсказываемой величены')"
      ],
      "metadata": {
        "colab": {
          "base_uri": "https://localhost:8080/",
          "height": 312
        },
        "id": "205eCTRPu3Au",
        "outputId": "7ffbbb8c-beef-417e-d6de-9e09ecc85306"
      },
      "execution_count": 133,
      "outputs": [
        {
          "output_type": "execute_result",
          "data": {
            "text/plain": [
              "Text(0.5, 1.0, 'Распределение предсказываемой величены')"
            ]
          },
          "metadata": {},
          "execution_count": 133
        },
        {
          "output_type": "display_data",
          "data": {
            "text/plain": [
              "<Figure size 432x288 with 1 Axes>"
            ],
            "image/png": "[encoded data removed]"
          },
          "metadata": {
            "needs_background": "light"
          }
        }
      ]
    },
    {
      "cell_type": "code",
      "source": [
        "df[\"Год_Поступления\"].hist(bins = 11, range = [2010, 2021]).set_title('Распределение года поступления')"
      ],
      "metadata": {
        "colab": {
          "base_uri": "https://localhost:8080/",
          "height": 298
        },
        "id": "0hNUU0Dvu3DC",
        "outputId": "2b4a3ff5-3ce7-4332-efcc-e81b27f951d0"
      },
      "execution_count": 134,
      "outputs": [
        {
          "output_type": "execute_result",
          "data": {
            "text/plain": [
              "Text(0.5, 1.0, 'Распределение года поступления')"
            ]
          },
          "metadata": {},
          "execution_count": 134
        },
        {
          "output_type": "display_data",
          "data": {
            "text/plain": [
              "<Figure size 432x288 with 1 Axes>"
            ],
            "image/png": "[encoded data removed]"
          },
          "metadata": {
            "needs_background": "light"
          }
        }
      ]
    },
    {
      "cell_type": "markdown",
      "source": [
        "Обратим внимание на часть столбцов с постоянными значениями"
      ],
      "metadata": {
        "id": "zr-31zZQxUwx"
      }
    },
    {
      "cell_type": "code",
      "source": [
        "df[\"Пособие\"].value_counts()"
      ],
      "metadata": {
        "colab": {
          "base_uri": "https://localhost:8080/"
        },
        "id": "qw4IcQ2fu3KL",
        "outputId": "96db1465-73c5-40db-cf43-37d0d53cc896"
      },
      "execution_count": 135,
      "outputs": [
        {
          "output_type": "execute_result",
          "data": {
            "text/plain": [
              "0.0    13584\n",
              "Name: Пособие, dtype: int64"
            ]
          },
          "metadata": {},
          "execution_count": 135
        }
      ]
    },
    {
      "cell_type": "code",
      "source": [
        "df[\"Опекунство\"].value_counts()"
      ],
      "metadata": {
        "colab": {
          "base_uri": "https://localhost:8080/"
        },
        "id": "1A6yjsJXDkIt",
        "outputId": "1589d674-24c0-4039-e145-7e4c2a7c2a83"
      },
      "execution_count": 136,
      "outputs": [
        {
          "output_type": "execute_result",
          "data": {
            "text/plain": [
              "0.0    13578\n",
              "1.0        6\n",
              "Name: Опекунство, dtype: int64"
            ]
          },
          "metadata": {},
          "execution_count": 136
        }
      ]
    },
    {
      "cell_type": "code",
      "source": [
        "df.columns.values"
      ],
      "metadata": {
        "colab": {
          "base_uri": "https://localhost:8080/"
        },
        "id": "pWrDLNAKD_ZB",
        "outputId": "0cb2ca6e-24e2-4814-d65c-3d843aeef0fb"
      },
      "execution_count": 137,
      "outputs": [
        {
          "output_type": "execute_result",
          "data": {
            "text/plain": [
              "array(['ID', 'Код_группы', 'Год_Поступления', 'Пол', 'Основания',\n",
              "       'Изучаемый_Язык', 'Дата_Рождения', 'Уч_Заведение',\n",
              "       'Где_Находится_УЗ', 'Год_Окончания_УЗ', 'Пособие', 'Страна_ПП',\n",
              "       'Регион_ПП', 'Город_ПП', 'Общежитие', 'Наличие_Матери',\n",
              "       'Наличие_Отца', 'Страна_Родители', 'Опекунство', 'Село',\n",
              "       'Иностранец', 'КодФакультета', 'СрБаллАттестата', 'Статус'],\n",
              "      dtype=object)"
            ]
          },
          "metadata": {},
          "execution_count": 137
        }
      ]
    },
    {
      "cell_type": "code",
      "source": [
        "plt.rcParams['figure.figsize']=(15,15)\n",
        "\n",
        "\n",
        "df_corr = list(set(df.columns.values) - set(['Опекунство','Пособие']))\n",
        "g = sns.heatmap(df[df_corr].corr(), square = True, annot=True)"
      ],
      "metadata": {
        "colab": {
          "base_uri": "https://localhost:8080/",
          "height": 883
        },
        "id": "VnDPAAahyOnw",
        "outputId": "69bba407-e343-4e6e-bab1-66fc1bb46e36"
      },
      "execution_count": 138,
      "outputs": [
        {
          "output_type": "display_data",
          "data": {
            "text/plain": [
              "<Figure size 1080x1080 with 2 Axes>"
            ],
            "image/png": "[encoded data removed]"
          },
          "metadata": {
            "needs_background": "light"
          }
        }
      ]
    },
    {
      "cell_type": "code",
      "source": [
        "categorical_features = (df.select_dtypes(include=['object']).columns.values)\n",
        "categorical_features"
      ],
      "metadata": {
        "colab": {
          "base_uri": "https://localhost:8080/"
        },
        "id": "Arbi7WI2ItTs",
        "outputId": "2b37d022-6769-452a-dbff-431d3c45fa27"
      },
      "execution_count": 139,
      "outputs": [
        {
          "output_type": "execute_result",
          "data": {
            "text/plain": [
              "array(['Дата_Рождения', 'Уч_Заведение', 'Где_Находится_УЗ', 'Страна_ПП',\n",
              "       'Регион_ПП', 'Город_ПП'], dtype=object)"
            ]
          },
          "metadata": {},
          "execution_count": 139
        }
      ]
    },
    {
      "cell_type": "code",
      "source": [
        "numerical_features = df.select_dtypes(include = ['float64', 'int64']).columns.values\n",
        "numerical_features"
      ],
      "metadata": {
        "id": "3wnsPP0NJfW8",
        "colab": {
          "base_uri": "https://localhost:8080/"
        },
        "outputId": "92bbacc8-dd6c-471f-fdda-831966541e9c"
      },
      "execution_count": 140,
      "outputs": [
        {
          "output_type": "execute_result",
          "data": {
            "text/plain": [
              "array(['ID', 'Код_группы', 'Год_Поступления', 'Пол', 'Основания',\n",
              "       'Изучаемый_Язык', 'Год_Окончания_УЗ', 'Пособие', 'Общежитие',\n",
              "       'Наличие_Матери', 'Наличие_Отца', 'Страна_Родители', 'Опекунство',\n",
              "       'Село', 'Иностранец', 'КодФакультета', 'СрБаллАттестата', 'Статус'],\n",
              "      dtype=object)"
            ]
          },
          "metadata": {},
          "execution_count": 140
        }
      ]
    },
    {
      "cell_type": "code",
      "source": [
        "df.value_counts('Пособие')"
      ],
      "metadata": {
        "id": "JboNxoY7efRW",
        "colab": {
          "base_uri": "https://localhost:8080/"
        },
        "outputId": "5e6e27f2-5c36-4ad3-ee8a-a13d2bb5f1ff"
      },
      "execution_count": 141,
      "outputs": [
        {
          "output_type": "execute_result",
          "data": {
            "text/plain": [
              "Пособие\n",
              "0.0    13584\n",
              "dtype: int64"
            ]
          },
          "metadata": {},
          "execution_count": 141
        }
      ]
    },
    {
      "cell_type": "code",
      "source": [
        "df.shape"
      ],
      "metadata": {
        "colab": {
          "base_uri": "https://localhost:8080/"
        },
        "id": "DfQqkXCOueeM",
        "outputId": "698835d2-ec82-4b9f-f98c-471d6dcb8b06"
      },
      "execution_count": 142,
      "outputs": [
        {
          "output_type": "execute_result",
          "data": {
            "text/plain": [
              "(13584, 24)"
            ]
          },
          "metadata": {},
          "execution_count": 142
        }
      ]
    },
    {
      "cell_type": "code",
      "source": [
        "df = df.drop(columns=['Уч_Заведение', 'Где_Находится_УЗ', 'Дата_Рождения', 'Страна_ПП', 'Регион_ПП', 'Город_ПП'])"
      ],
      "metadata": {
        "id": "5qLe-13B4nfU"
      },
      "execution_count": 143,
      "outputs": []
    },
    {
      "cell_type": "code",
      "source": [
        "from sklearn.preprocessing import StandardScaler\n",
        "scale = StandardScaler()\n",
        "df1 = df\n",
        "X = df1.drop(\"Статус\", axis = 1)\n",
        "y = df1[\"Статус\"]\n",
        "X_scale = scale.fit_transform(X)\n",
        "X_scale_test = scale.fit_transform(df1)"
      ],
      "metadata": {
        "id": "DT3CgpLDBWKs"
      },
      "execution_count": 144,
      "outputs": []
    },
    {
      "cell_type": "code",
      "source": [
        "df1.head()"
      ],
      "metadata": {
        "colab": {
          "base_uri": "https://localhost:8080/",
          "height": 270
        },
        "id": "accbeNdGCk3I",
        "outputId": "5d1aba5b-63a7-4833-967e-a7b0e29f710c"
      },
      "execution_count": 145,
      "outputs": [
        {
          "output_type": "execute_result",
          "data": {
            "text/plain": [
              "      ID  Код_группы  Год_Поступления  Пол  Основания  Изучаемый_Язык  \\\n",
              "0  72716       16019             2015    0          2               1   \n",
              "1  63306       14895             2010    1          4               0   \n",
              "2  82469       20103             2017    0          1               1   \n",
              "3  81661       19838             2017    0          0               1   \n",
              "4  81509       19803             2017    0          0               1   \n",
              "\n",
              "   Год_Окончания_УЗ  Пособие  Общежитие  Наличие_Матери  Наличие_Отца  \\\n",
              "0            2014.0      0.0        0.0               0           0.0   \n",
              "1               0.0      0.0        0.0               1           1.0   \n",
              "2            2017.0      0.0        0.0               1           1.0   \n",
              "3            2017.0      0.0        0.0               1           1.0   \n",
              "4            2017.0      0.0        0.0               1           1.0   \n",
              "\n",
              "   Страна_Родители  Опекунство  Село  Иностранец  КодФакультета  \\\n",
              "0               10         0.0   0.0         0.0           41.0   \n",
              "1               10         0.0   0.0         0.0           28.0   \n",
              "2               10         0.0   0.0         0.0           41.0   \n",
              "3               10         0.0   0.0         0.0           35.0   \n",
              "4               10         0.0   0.0         0.0           28.0   \n",
              "\n",
              "   СрБаллАттестата  Статус  \n",
              "0            4.294       3  \n",
              "1           67.000       4  \n",
              "2            4.133       4  \n",
              "3           74.000       4  \n",
              "4           53.000       4  "
            ],
            "text/html": [
              "\n",
              "  <div id=\"df-382d2b64-54e2-43dc-8dd5-46f27978c3cc\">\n",
              "    <div class=\"colab-df-container\">\n",
              "      <div>\n",
              "<style scoped>\n",
              "    .dataframe tbody tr th:only-of-type {\n",
              "        vertical-align: middle;\n",
              "    }\n",
              "\n",
              "    .dataframe tbody tr th {\n",
              "        vertical-align: top;\n",
              "    }\n",
              "\n",
              "    .dataframe thead th {\n",
              "        text-align: right;\n",
              "    }\n",
              "</style>\n",
              "<table border=\"1\" class=\"dataframe\">\n",
              "  <thead>\n",
              "    <tr style=\"text-align: right;\">\n",
              "      <th></th>\n",
              "      <th>ID</th>\n",
              "      <th>Код_группы</th>\n",
              "      <th>Год_Поступления</th>\n",
              "      <th>Пол</th>\n",
              "      <th>Основания</th>\n",
              "      <th>Изучаемый_Язык</th>\n",
              "      <th>Год_Окончания_УЗ</th>\n",
              "      <th>Пособие</th>\n",
              "      <th>Общежитие</th>\n",
              "      <th>Наличие_Матери</th>\n",
              "      <th>Наличие_Отца</th>\n",
              "      <th>Страна_Родители</th>\n",
              "      <th>Опекунство</th>\n",
              "      <th>Село</th>\n",
              "      <th>Иностранец</th>\n",
              "      <th>КодФакультета</th>\n",
              "      <th>СрБаллАттестата</th>\n",
              "      <th>Статус</th>\n",
              "    </tr>\n",
              "  </thead>\n",
              "  <tbody>\n",
              "    <tr>\n",
              "      <th>0</th>\n",
              "      <td>72716</td>\n",
              "      <td>16019</td>\n",
              "      <td>2015</td>\n",
              "      <td>0</td>\n",
              "      <td>2</td>\n",
              "      <td>1</td>\n",
              "      <td>2014.0</td>\n",
              "      <td>0.0</td>\n",
              "      <td>0.0</td>\n",
              "      <td>0</td>\n",
              "      <td>0.0</td>\n",
              "      <td>10</td>\n",
              "      <td>0.0</td>\n",
              "      <td>0.0</td>\n",
              "      <td>0.0</td>\n",
              "      <td>41.0</td>\n",
              "      <td>4.294</td>\n",
              "      <td>3</td>\n",
              "    </tr>\n",
              "    <tr>\n",
              "      <th>1</th>\n",
              "      <td>63306</td>\n",
              "      <td>14895</td>\n",
              "      <td>2010</td>\n",
              "      <td>1</td>\n",
              "      <td>4</td>\n",
              "      <td>0</td>\n",
              "      <td>0.0</td>\n",
              "      <td>0.0</td>\n",
              "      <td>0.0</td>\n",
              "      <td>1</td>\n",
              "      <td>1.0</td>\n",
              "      <td>10</td>\n",
              "      <td>0.0</td>\n",
              "      <td>0.0</td>\n",
              "      <td>0.0</td>\n",
              "      <td>28.0</td>\n",
              "      <td>67.000</td>\n",
              "      <td>4</td>\n",
              "    </tr>\n",
              "    <tr>\n",
              "      <th>2</th>\n",
              "      <td>82469</td>\n",
              "      <td>20103</td>\n",
              "      <td>2017</td>\n",
              "      <td>0</td>\n",
              "      <td>1</td>\n",
              "      <td>1</td>\n",
              "      <td>2017.0</td>\n",
              "      <td>0.0</td>\n",
              "      <td>0.0</td>\n",
              "      <td>1</td>\n",
              "      <td>1.0</td>\n",
              "      <td>10</td>\n",
              "      <td>0.0</td>\n",
              "      <td>0.0</td>\n",
              "      <td>0.0</td>\n",
              "      <td>41.0</td>\n",
              "      <td>4.133</td>\n",
              "      <td>4</td>\n",
              "    </tr>\n",
              "    <tr>\n",
              "      <th>3</th>\n",
              "      <td>81661</td>\n",
              "      <td>19838</td>\n",
              "      <td>2017</td>\n",
              "      <td>0</td>\n",
              "      <td>0</td>\n",
              "      <td>1</td>\n",
              "      <td>2017.0</td>\n",
              "      <td>0.0</td>\n",
              "      <td>0.0</td>\n",
              "      <td>1</td>\n",
              "      <td>1.0</td>\n",
              "      <td>10</td>\n",
              "      <td>0.0</td>\n",
              "      <td>0.0</td>\n",
              "      <td>0.0</td>\n",
              "      <td>35.0</td>\n",
              "      <td>74.000</td>\n",
              "      <td>4</td>\n",
              "    </tr>\n",
              "    <tr>\n",
              "      <th>4</th>\n",
              "      <td>81509</td>\n",
              "      <td>19803</td>\n",
              "      <td>2017</td>\n",
              "      <td>0</td>\n",
              "      <td>0</td>\n",
              "      <td>1</td>\n",
              "      <td>2017.0</td>\n",
              "      <td>0.0</td>\n",
              "      <td>0.0</td>\n",
              "      <td>1</td>\n",
              "      <td>1.0</td>\n",
              "      <td>10</td>\n",
              "      <td>0.0</td>\n",
              "      <td>0.0</td>\n",
              "      <td>0.0</td>\n",
              "      <td>28.0</td>\n",
              "      <td>53.000</td>\n",
              "      <td>4</td>\n",
              "    </tr>\n",
              "  </tbody>\n",
              "</table>\n",
              "</div>\n",
              "      <button class=\"colab-df-convert\" onclick=\"convertToInteractive('df-382d2b64-54e2-43dc-8dd5-46f27978c3cc')\"\n",
              "              title=\"Convert this dataframe to an interactive table.\"\n",
              "              style=\"display:none;\">\n",
              "        \n",
              "  <svg xmlns=\"http://www.w3.org/2000/svg\" height=\"24px\"viewBox=\"0 0 24 24\"\n",
              "       width=\"24px\">\n",
              "    <path d=\"M0 0h24v24H0V0z\" fill=\"none\"/>\n",
              "    <path d=\"M18.56 5.44l.94 2.06.94-2.06 2.06-.94-2.06-.94-.94-2.06-.94 2.06-2.06.94zm-11 1L8.5 8.5l.94-2.06 2.06-.94-2.06-.94L8.5 2.5l-.94 2.06-2.06.94zm10 10l.94 2.06.94-2.06 2.06-.94-2.06-.94-.94-2.06-.94 2.06-2.06.94z\"/><path d=\"M17.41 7.96l-1.37-1.37c-.4-.4-.92-.59-1.43-.59-.52 0-1.04.2-1.43.59L10.3 9.45l-7.72 7.72c-.78.78-.78 2.05 0 2.83L4 21.41c.39.39.9.59 1.41.59.51 0 1.02-.2 1.41-.59l7.78-7.78 2.81-2.81c.8-.78.8-2.07 0-2.86zM5.41 20L4 18.59l7.72-7.72 1.47 1.35L5.41 20z\"/>\n",
              "  </svg>\n",
              "      </button>\n",
              "      \n",
              "  <style>\n",
              "    .colab-df-container {\n",
              "      display:flex;\n",
              "      flex-wrap:wrap;\n",
              "      gap: 12px;\n",
              "    }\n",
              "\n",
              "    .colab-df-convert {\n",
              "      background-color: #E8F0FE;\n",
              "      border: none;\n",
              "      border-radius: 50%;\n",
              "      cursor: pointer;\n",
              "      display: none;\n",
              "      fill: #1967D2;\n",
              "      height: 32px;\n",
              "      padding: 0 0 0 0;\n",
              "      width: 32px;\n",
              "    }\n",
              "\n",
              "    .colab-df-convert:hover {\n",
              "      background-color: #E2EBFA;\n",
              "      box-shadow: 0px 1px 2px rgba(60, 64, 67, 0.3), 0px 1px 3px 1px rgba(60, 64, 67, 0.15);\n",
              "      fill: #174EA6;\n",
              "    }\n",
              "\n",
              "    [theme=dark] .colab-df-convert {\n",
              "      background-color: #3B4455;\n",
              "      fill: #D2E3FC;\n",
              "    }\n",
              "\n",
              "    [theme=dark] .colab-df-convert:hover {\n",
              "      background-color: #434B5C;\n",
              "      box-shadow: 0px 1px 3px 1px rgba(0, 0, 0, 0.15);\n",
              "      filter: drop-shadow(0px 1px 2px rgba(0, 0, 0, 0.3));\n",
              "      fill: #FFFFFF;\n",
              "    }\n",
              "  </style>\n",
              "\n",
              "      <script>\n",
              "        const buttonEl =\n",
              "          document.querySelector('#df-382d2b64-54e2-43dc-8dd5-46f27978c3cc button.colab-df-convert');\n",
              "        buttonEl.style.display =\n",
              "          google.colab.kernel.accessAllowed ? 'block' : 'none';\n",
              "\n",
              "        async function convertToInteractive(key) {\n",
              "          const element = document.querySelector('#df-382d2b64-54e2-43dc-8dd5-46f27978c3cc');\n",
              "          const dataTable =\n",
              "            await google.colab.kernel.invokeFunction('convertToInteractive',\n",
              "                                                     [key], {});\n",
              "          if (!dataTable) return;\n",
              "\n",
              "          const docLinkHtml = 'Like what you see? Visit the ' +\n",
              "            '<a target=\"_blank\" href=https://colab.research.google.com/notebooks/data_table.ipynb>data table notebook</a>'\n",
              "            + ' to learn more about interactive tables.';\n",
              "          element.innerHTML = '';\n",
              "          dataTable['output_type'] = 'display_data';\n",
              "          await google.colab.output.renderOutput(dataTable, element);\n",
              "          const docLink = document.createElement('div');\n",
              "          docLink.innerHTML = docLinkHtml;\n",
              "          element.appendChild(docLink);\n",
              "        }\n",
              "      </script>\n",
              "    </div>\n",
              "  </div>\n",
              "  "
            ]
          },
          "metadata": {},
          "execution_count": 145
        }
      ]
    },
    {
      "cell_type": "code",
      "source": [
        "df.info()"
      ],
      "metadata": {
        "colab": {
          "base_uri": "https://localhost:8080/"
        },
        "id": "NUHy7c-tuegn",
        "outputId": "8485eedc-00d9-4b38-a8da-7c1131b163ff"
      },
      "execution_count": 146,
      "outputs": [
        {
          "output_type": "stream",
          "name": "stdout",
          "text": [
            "<class 'pandas.core.frame.DataFrame'>\n",
            "Int64Index: 13584 entries, 0 to 13583\n",
            "Data columns (total 18 columns):\n",
            " #   Column            Non-Null Count  Dtype  \n",
            "---  ------            --------------  -----  \n",
            " 0   ID                13584 non-null  int64  \n",
            " 1   Код_группы        13584 non-null  int64  \n",
            " 2   Год_Поступления   13584 non-null  int64  \n",
            " 3   Пол               13584 non-null  int64  \n",
            " 4   Основания         13584 non-null  int64  \n",
            " 5   Изучаемый_Язык    13584 non-null  int64  \n",
            " 6   Год_Окончания_УЗ  13584 non-null  float64\n",
            " 7   Пособие           13584 non-null  float64\n",
            " 8   Общежитие         13584 non-null  float64\n",
            " 9   Наличие_Матери    13584 non-null  int64  \n",
            " 10  Наличие_Отца      13584 non-null  float64\n",
            " 11  Страна_Родители   13584 non-null  int64  \n",
            " 12  Опекунство        13584 non-null  float64\n",
            " 13  Село              13584 non-null  float64\n",
            " 14  Иностранец        13584 non-null  float64\n",
            " 15  КодФакультета     13584 non-null  float64\n",
            " 16  СрБаллАттестата   13584 non-null  float64\n",
            " 17  Статус            13584 non-null  int64  \n",
            "dtypes: float64(9), int64(9)\n",
            "memory usage: 2.5 MB\n"
          ]
        }
      ]
    },
    {
      "cell_type": "markdown",
      "source": [
        "## Выделим выборки"
      ],
      "metadata": {
        "id": "VLOa56f5zfUg"
      }
    },
    {
      "cell_type": "code",
      "source": [
        "df.dtypes[df.dtypes == 'float64'].index.values"
      ],
      "metadata": {
        "colab": {
          "base_uri": "https://localhost:8080/"
        },
        "id": "dlFmTxhgMlSR",
        "outputId": "ada9ea3d-1e3d-40cb-b736-6b172f37f7a7"
      },
      "execution_count": 147,
      "outputs": [
        {
          "output_type": "execute_result",
          "data": {
            "text/plain": [
              "array(['Год_Окончания_УЗ', 'Пособие', 'Общежитие', 'Наличие_Отца',\n",
              "       'Опекунство', 'Село', 'Иностранец', 'КодФакультета',\n",
              "       'СрБаллАттестата'], dtype=object)"
            ]
          },
          "metadata": {},
          "execution_count": 147
        }
      ]
    },
    {
      "cell_type": "code",
      "source": [
        "numerical_features = df.select_dtypes(include = ['float64', 'int64']).columns.values\n"
      ],
      "metadata": {
        "id": "u3-p1tcaK-JU"
      },
      "execution_count": 148,
      "outputs": []
    },
    {
      "cell_type": "markdown",
      "source": [
        "Поместим все столбцы object в массив, для их дальнейшего удаления"
      ],
      "metadata": {
        "id": "845Wf3zJ1dhc"
      }
    },
    {
      "cell_type": "code",
      "source": [
        "mass_object = df.dtypes[df.dtypes == \"object\"].index.values"
      ],
      "metadata": {
        "id": "Poa1_MKE08xs"
      },
      "execution_count": 149,
      "outputs": []
    },
    {
      "cell_type": "code",
      "source": [
        "mass_object = np.append(mass_object, \"Статус\")"
      ],
      "metadata": {
        "id": "mAhVoVTj1l-D"
      },
      "execution_count": 150,
      "outputs": []
    },
    {
      "cell_type": "code",
      "source": [
        "X = df.drop(mass_object, axis = 1)\n",
        "y = df[[\"Статус\"]]"
      ],
      "metadata": {
        "id": "czsoZexkyyTw"
      },
      "execution_count": 151,
      "outputs": []
    },
    {
      "cell_type": "code",
      "source": [
        "X.shape"
      ],
      "metadata": {
        "colab": {
          "base_uri": "https://localhost:8080/"
        },
        "id": "BSNwra3e07wI",
        "outputId": "d6b68f97-6476-43e1-8ad5-d262b1d55edd"
      },
      "execution_count": 152,
      "outputs": [
        {
          "output_type": "execute_result",
          "data": {
            "text/plain": [
              "(13584, 17)"
            ]
          },
          "metadata": {},
          "execution_count": 152
        }
      ]
    },
    {
      "cell_type": "code",
      "source": [
        "X_train, X_test, y_train, y_test = train_test_split(X, y, test_size=0.3, random_state=42)"
      ],
      "metadata": {
        "id": "E-LfoARf2WGZ"
      },
      "execution_count": 53,
      "outputs": []
    },
    {
      "cell_type": "markdown",
      "source": [
        "## Обучение модели"
      ],
      "metadata": {
        "id": "X_HOvpXy2e3S"
      }
    },
    {
      "cell_type": "code",
      "source": [
        "from sklearn.ensemble import GradientBoostingClassifier # Импортируем GradientBoostingClassifier\n",
        "from sklearn.metrics import roc_auc_score\n",
        "clf2 = GradientBoostingClassifier(n_estimators=1000, learning_rate=0.09, random_state=1)\n",
        "clf2.fit(X_train, y_train) # обучение"
      ],
      "metadata": {
        "id": "ShvbBD-aw6qe",
        "colab": {
          "base_uri": "https://localhost:8080/"
        },
        "outputId": "f40891be-d136-4014-edc5-3f1c6f6a6d12"
      },
      "execution_count": 153,
      "outputs": [
        {
          "output_type": "stream",
          "name": "stderr",
          "text": [
            "/usr/local/lib/python3.7/dist-packages/sklearn/ensemble/_gb.py:494: DataConversionWarning: A column-vector y was passed when a 1d array was expected. Please change the shape of y to (n_samples, ), for example using ravel().\n",
            "  y = column_or_1d(y, warn=True)\n"
          ]
        },
        {
          "output_type": "execute_result",
          "data": {
            "text/plain": [
              "GradientBoostingClassifier(learning_rate=0.09, n_estimators=1000,\n",
              "                           random_state=1)"
            ]
          },
          "metadata": {},
          "execution_count": 153
        }
      ]
    },
    {
      "cell_type": "markdown",
      "source": [
        "## Оценка точности"
      ],
      "metadata": {
        "id": "aqxTaUVm2iiP"
      }
    },
    {
      "cell_type": "code",
      "source": [
        "clf2.score(X_test, y_test)\n",
        "y_pred = clf2.predict(X_test) # предсказание"
      ],
      "metadata": {
        "id": "jVQcaejMxe8B"
      },
      "execution_count": 154,
      "outputs": []
    },
    {
      "cell_type": "code",
      "source": [
        "f1_score(y_test, y_pred, average='macro', zero_division = 0)"
      ],
      "metadata": {
        "id": "BUjIMTKXx_m4",
        "colab": {
          "base_uri": "https://localhost:8080/"
        },
        "outputId": "a61ec0b3-53bf-4c6e-826d-a333fd4b4334"
      },
      "execution_count": 155,
      "outputs": [
        {
          "output_type": "execute_result",
          "data": {
            "text/plain": [
              "0.7764444015594405"
            ]
          },
          "metadata": {},
          "execution_count": 155
        }
      ]
    },
    {
      "cell_type": "markdown",
      "source": [
        "# Cоздание файла с ответом"
      ],
      "metadata": {
        "id": "yjJp2a4dFmNJ"
      }
    },
    {
      "cell_type": "code",
      "source": [
        "df_test = pd.read_csv(\"/content/test_dataset_test.csv\")\n",
        "df_submission = pd.read_csv(\"/content/sample_submission.csv\")"
      ],
      "metadata": {
        "id": "-1HabuSpBbYS"
      },
      "execution_count": 58,
      "outputs": []
    },
    {
      "cell_type": "markdown",
      "source": [
        "##Произведем замены, как в тренировочном файле"
      ],
      "metadata": {
        "id": "lGfgb96EVcqm"
      }
    },
    {
      "cell_type": "code",
      "source": [
        "df_test.shape"
      ],
      "metadata": {
        "colab": {
          "base_uri": "https://localhost:8080/"
        },
        "id": "k4bP_q5Y369p",
        "outputId": "4e56bd28-10bc-480c-b0f5-d4ab3a72ae0e"
      },
      "execution_count": 59,
      "outputs": [
        {
          "output_type": "execute_result",
          "data": {
            "text/plain": [
              "(6691, 23)"
            ]
          },
          "metadata": {},
          "execution_count": 59
        }
      ]
    },
    {
      "cell_type": "code",
      "source": [
        "df_test.value_counts('Страна_Родители')"
      ],
      "metadata": {
        "colab": {
          "base_uri": "https://localhost:8080/"
        },
        "id": "Jcc3AtuFKDLc",
        "outputId": "c3186c16-6b91-4876-cb7f-11c2c5aae2c3"
      },
      "execution_count": 60,
      "outputs": [
        {
          "output_type": "execute_result",
          "data": {
            "text/plain": [
              "Страна_Родители\n",
              "Россия                    6073\n",
              "Казахстан                  239\n",
              "Китай                       82\n",
              "Таджикистан                 45\n",
              "Кыргызстан                  24\n",
              "Киргизия                    14\n",
              "Кыргызская Республика        3\n",
              "Узбекистан                   3\n",
              "Афганистан                   2\n",
              "РОССИЯ                       2\n",
              "Туркменистан                 2\n",
              "Кыргызия                     1\n",
              "Монголия                     1\n",
              "Республика Таджикистан       1\n",
              "Чеченская республика         1\n",
              "dtype: int64"
            ]
          },
          "metadata": {},
          "execution_count": 60
        }
      ]
    },
    {
      "cell_type": "code",
      "source": [
        "df_test['Страна_Родители'] = df_test['Страна_Родители'].replace({'РОССИЯ': \"Россия\", 'Кыргызская Республика': \"Кыргызстан\", 'Республика Таджикистан' : \"Таджикистан\", \"Республика Таджикистан\" : \"Таджикистан\"})"
      ],
      "metadata": {
        "id": "r8AbO96rYeev"
      },
      "execution_count": 61,
      "outputs": []
    },
    {
      "cell_type": "code",
      "source": [
        "df_test.value_counts('Страна_Родители')"
      ],
      "metadata": {
        "colab": {
          "base_uri": "https://localhost:8080/"
        },
        "id": "obJdMwh1Y_NQ",
        "outputId": "79feabe5-b092-42ca-f05b-0e537d519ee5"
      },
      "execution_count": 62,
      "outputs": [
        {
          "output_type": "execute_result",
          "data": {
            "text/plain": [
              "Страна_Родители\n",
              "Россия                  6075\n",
              "Казахстан                239\n",
              "Китай                     82\n",
              "Таджикистан               46\n",
              "Кыргызстан                27\n",
              "Киргизия                  14\n",
              "Узбекистан                 3\n",
              "Афганистан                 2\n",
              "Туркменистан               2\n",
              "Кыргызия                   1\n",
              "Монголия                   1\n",
              "Чеченская республика       1\n",
              "dtype: int64"
            ]
          },
          "metadata": {},
          "execution_count": 62
        }
      ]
    },
    {
      "cell_type": "code",
      "source": [
        "df_test['Страна_Родители'] = df_test['Страна_Родители'].replace({\"Россия\" : 10, \"Казахстан\" : 3, \"Китай\" : 5, \"Таджикистан\" : 11, \"Кыргызстан\" : 6, \"Киргизия\" : 4, \"Узбекистан\" : 13, \"Монголия\" : 8, \"Афганистан\" : np.nan, \"Туркменистан\" : np.nan, \"Кыргызия\" : np.nan, \"Монголия\" : np.nan, \"Чеченская республика\" : np.nan})"
      ],
      "metadata": {
        "id": "Q5g1VURidwpY"
      },
      "execution_count": 63,
      "outputs": []
    },
    {
      "cell_type": "markdown",
      "source": [
        "\n",
        "\n",
        "---\n",
        "\n"
      ],
      "metadata": {
        "id": "zp1LuGMX-WmJ"
      }
    },
    {
      "cell_type": "code",
      "source": [
        "#df_test = df_test.drop(columns=['Код_группы', 'КодФакультета', 'Год_Окончания_УЗ' , 'Дата_Рождения', 'Уч_Заведение', 'Где_Находится_УЗ', 'Страна_ПП', 'Регион_ПП', 'Город_ПП', 'Страна_Родители'])"
      ],
      "metadata": {
        "id": "2l1kQR7M-a8P"
      },
      "execution_count": null,
      "outputs": []
    },
    {
      "cell_type": "code",
      "source": [
        "df_test['Пол'] = df_test['Пол'].replace({'жен': \"Жен\"})"
      ],
      "metadata": {
        "id": "z545LnJP-oHh"
      },
      "execution_count": 64,
      "outputs": []
    },
    {
      "cell_type": "code",
      "source": [
        "df_test['Пол'] = df_test['Пол'].replace({'Жен': 0, 'Муж' : 1})"
      ],
      "metadata": {
        "id": "Kb6T0CnO-sFC"
      },
      "execution_count": 65,
      "outputs": []
    },
    {
      "cell_type": "code",
      "source": [
        "df_test['Основания'] = df_test['Основания'].replace({\"ОО\" : 2, \"СН\" : 3, \"БН\" : 0, \"ДН\" : 1, \"ЦН\" : 4, \"ЛН\" : np.nan})"
      ],
      "metadata": {
        "id": "8k2CkNtC-9D4"
      },
      "execution_count": 66,
      "outputs": []
    },
    {
      "cell_type": "code",
      "source": [
        "df_test['Изучаемый_Язык'] = df_test['Изучаемый_Язык'].replace({'Англиийский': \"Английский язык\", 'Иностранный язык (Английский)': \"Английский язык\", \"Английский, немецкий языки\" : np.nan})"
      ],
      "metadata": {
        "id": "nG9D3c6i_Dz4"
      },
      "execution_count": 67,
      "outputs": []
    },
    {
      "cell_type": "code",
      "source": [
        "df_test['Изучаемый_Язык'] = df_test['Изучаемый_Язык'].replace({'Английский язык': 0, 'Немецкий язык': 1, \"Французский язык\" : 3, \"Русский язык\" : 2, \"два языка\" : 3})"
      ],
      "metadata": {
        "id": "tRdt9cSK_GUi"
      },
      "execution_count": 68,
      "outputs": []
    },
    {
      "cell_type": "code",
      "source": [
        "df_test = df_test.drop(columns=['Уч_Заведение', 'Где_Находится_УЗ', 'Дата_Рождения', 'Страна_ПП', 'Регион_ПП', 'Город_ПП'])"
      ],
      "metadata": {
        "id": "Ndq-m3Eg42k7"
      },
      "execution_count": 69,
      "outputs": []
    },
    {
      "cell_type": "code",
      "source": [
        "df_test.shape"
      ],
      "metadata": {
        "colab": {
          "base_uri": "https://localhost:8080/"
        },
        "id": "4w598nxo316c",
        "outputId": "c0dfa959-16e4-40b7-f377-0e4e099d512f"
      },
      "execution_count": 70,
      "outputs": [
        {
          "output_type": "execute_result",
          "data": {
            "text/plain": [
              "(6691, 17)"
            ]
          },
          "metadata": {},
          "execution_count": 70
        }
      ]
    },
    {
      "cell_type": "markdown",
      "source": [
        "\n",
        "\n",
        "---\n",
        "\n"
      ],
      "metadata": {
        "id": "NgAa1Pq4-YR5"
      }
    },
    {
      "cell_type": "markdown",
      "source": [
        "Провем те же манипуляции с данными что и на обучении"
      ],
      "metadata": {
        "id": "XIfjIJ7cF_gS"
      }
    },
    {
      "cell_type": "code",
      "source": [
        "mass_object = df.dtypes[df.dtypes == \"object\"].index.values\n",
        "df_test = df_test.drop(mass_object, axis = 1)"
      ],
      "metadata": {
        "id": "0I1jddSzBbaK"
      },
      "execution_count": 71,
      "outputs": []
    },
    {
      "cell_type": "code",
      "source": [
        "df_test = df_test.fillna(0)"
      ],
      "metadata": {
        "id": "zJXTk60rGZxn"
      },
      "execution_count": 72,
      "outputs": []
    },
    {
      "cell_type": "code",
      "source": [
        "df_test_pred = clf2.predict(df_test)"
      ],
      "metadata": {
        "id": "0lYg_cpvBbcg"
      },
      "execution_count": 74,
      "outputs": []
    },
    {
      "cell_type": "code",
      "source": [
        "df_submission[\"Статус\"] = df_test_pred\n",
        "df_submission.head(4)"
      ],
      "metadata": {
        "colab": {
          "base_uri": "https://localhost:8080/",
          "height": 175
        },
        "id": "py7AM_IFBbe7",
        "outputId": "d48425e7-5eea-44c4-e704-add3944bafdb"
      },
      "execution_count": 75,
      "outputs": [
        {
          "output_type": "execute_result",
          "data": {
            "text/plain": [
              "      ID  Статус\n",
              "0  64996       4\n",
              "1  71837       4\n",
              "2  86587       4\n",
              "3  73673      -1"
            ],
            "text/html": [
              "\n",
              "  <div id=\"df-49e61acd-8b51-4be6-9f48-2c20109a8565\">\n",
              "    <div class=\"colab-df-container\">\n",
              "      <div>\n",
              "<style scoped>\n",
              "    .dataframe tbody tr th:only-of-type {\n",
              "        vertical-align: middle;\n",
              "    }\n",
              "\n",
              "    .dataframe tbody tr th {\n",
              "        vertical-align: top;\n",
              "    }\n",
              "\n",
              "    .dataframe thead th {\n",
              "        text-align: right;\n",
              "    }\n",
              "</style>\n",
              "<table border=\"1\" class=\"dataframe\">\n",
              "  <thead>\n",
              "    <tr style=\"text-align: right;\">\n",
              "      <th></th>\n",
              "      <th>ID</th>\n",
              "      <th>Статус</th>\n",
              "    </tr>\n",
              "  </thead>\n",
              "  <tbody>\n",
              "    <tr>\n",
              "      <th>0</th>\n",
              "      <td>64996</td>\n",
              "      <td>4</td>\n",
              "    </tr>\n",
              "    <tr>\n",
              "      <th>1</th>\n",
              "      <td>71837</td>\n",
              "      <td>4</td>\n",
              "    </tr>\n",
              "    <tr>\n",
              "      <th>2</th>\n",
              "      <td>86587</td>\n",
              "      <td>4</td>\n",
              "    </tr>\n",
              "    <tr>\n",
              "      <th>3</th>\n",
              "      <td>73673</td>\n",
              "      <td>-1</td>\n",
              "    </tr>\n",
              "  </tbody>\n",
              "</table>\n",
              "</div>\n",
              "      <button class=\"colab-df-convert\" onclick=\"convertToInteractive('df-49e61acd-8b51-4be6-9f48-2c20109a8565')\"\n",
              "              title=\"Convert this dataframe to an interactive table.\"\n",
              "              style=\"display:none;\">\n",
              "        \n",
              "  <svg xmlns=\"http://www.w3.org/2000/svg\" height=\"24px\"viewBox=\"0 0 24 24\"\n",
              "       width=\"24px\">\n",
              "    <path d=\"M0 0h24v24H0V0z\" fill=\"none\"/>\n",
              "    <path d=\"M18.56 5.44l.94 2.06.94-2.06 2.06-.94-2.06-.94-.94-2.06-.94 2.06-2.06.94zm-11 1L8.5 8.5l.94-2.06 2.06-.94-2.06-.94L8.5 2.5l-.94 2.06-2.06.94zm10 10l.94 2.06.94-2.06 2.06-.94-2.06-.94-.94-2.06-.94 2.06-2.06.94z\"/><path d=\"M17.41 7.96l-1.37-1.37c-.4-.4-.92-.59-1.43-.59-.52 0-1.04.2-1.43.59L10.3 9.45l-7.72 7.72c-.78.78-.78 2.05 0 2.83L4 21.41c.39.39.9.59 1.41.59.51 0 1.02-.2 1.41-.59l7.78-7.78 2.81-2.81c.8-.78.8-2.07 0-2.86zM5.41 20L4 18.59l7.72-7.72 1.47 1.35L5.41 20z\"/>\n",
              "  </svg>\n",
              "      </button>\n",
              "      \n",
              "  <style>\n",
              "    .colab-df-container {\n",
              "      display:flex;\n",
              "      flex-wrap:wrap;\n",
              "      gap: 12px;\n",
              "    }\n",
              "\n",
              "    .colab-df-convert {\n",
              "      background-color: #E8F0FE;\n",
              "      border: none;\n",
              "      border-radius: 50%;\n",
              "      cursor: pointer;\n",
              "      display: none;\n",
              "      fill: #1967D2;\n",
              "      height: 32px;\n",
              "      padding: 0 0 0 0;\n",
              "      width: 32px;\n",
              "    }\n",
              "\n",
              "    .colab-df-convert:hover {\n",
              "      background-color: #E2EBFA;\n",
              "      box-shadow: 0px 1px 2px rgba(60, 64, 67, 0.3), 0px 1px 3px 1px rgba(60, 64, 67, 0.15);\n",
              "      fill: #174EA6;\n",
              "    }\n",
              "\n",
              "    [theme=dark] .colab-df-convert {\n",
              "      background-color: #3B4455;\n",
              "      fill: #D2E3FC;\n",
              "    }\n",
              "\n",
              "    [theme=dark] .colab-df-convert:hover {\n",
              "      background-color: #434B5C;\n",
              "      box-shadow: 0px 1px 3px 1px rgba(0, 0, 0, 0.15);\n",
              "      filter: drop-shadow(0px 1px 2px rgba(0, 0, 0, 0.3));\n",
              "      fill: #FFFFFF;\n",
              "    }\n",
              "  </style>\n",
              "\n",
              "      <script>\n",
              "        const buttonEl =\n",
              "          document.querySelector('#df-49e61acd-8b51-4be6-9f48-2c20109a8565 button.colab-df-convert');\n",
              "        buttonEl.style.display =\n",
              "          google.colab.kernel.accessAllowed ? 'block' : 'none';\n",
              "\n",
              "        async function convertToInteractive(key) {\n",
              "          const element = document.querySelector('#df-49e61acd-8b51-4be6-9f48-2c20109a8565');\n",
              "          const dataTable =\n",
              "            await google.colab.kernel.invokeFunction('convertToInteractive',\n",
              "                                                     [key], {});\n",
              "          if (!dataTable) return;\n",
              "\n",
              "          const docLinkHtml = 'Like what you see? Visit the ' +\n",
              "            '<a target=\"_blank\" href=https://colab.research.google.com/notebooks/data_table.ipynb>data table notebook</a>'\n",
              "            + ' to learn more about interactive tables.';\n",
              "          element.innerHTML = '';\n",
              "          dataTable['output_type'] = 'display_data';\n",
              "          await google.colab.output.renderOutput(dataTable, element);\n",
              "          const docLink = document.createElement('div');\n",
              "          docLink.innerHTML = docLinkHtml;\n",
              "          element.appendChild(docLink);\n",
              "        }\n",
              "      </script>\n",
              "    </div>\n",
              "  </div>\n",
              "  "
            ]
          },
          "metadata": {},
          "execution_count": 75
        }
      ]
    },
    {
      "cell_type": "code",
      "source": [
        "df_submission.to_csv(\"/content/submission.csv\", index=False)"
      ],
      "metadata": {
        "id": "Wxsze_eGfCxE"
      },
      "execution_count": 76,
      "outputs": []
    }
  ]
}